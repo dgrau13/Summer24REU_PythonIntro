{
 "cells": [
  {
   "cell_type": "markdown",
   "id": "075ece6a",
   "metadata": {},
   "source": [
    "# Python 101 (Week 1)"
   ]
  },
  {
   "cell_type": "markdown",
   "id": "f539e7af",
   "metadata": {},
   "source": [
    "## Importing Libraries and Packages is always the first step when writing a python script"
   ]
  },
  {
   "cell_type": "markdown",
   "id": "f19478cb",
   "metadata": {},
   "source": [
    "The three most common python libraries used are **NumPy**, **SciPy**, and **Matplotlib** <br>\n",
    "**NumPy**: Numerical computing library with array building  <br>\n",
    "**SciPy**: Scientific Computing Library <br>\n",
    "**Matplotlib**: Basic Library for Plotting Data"
   ]
  },
  {
   "cell_type": "code",
   "execution_count": 5,
   "id": "a1a8f52e",
   "metadata": {},
   "outputs": [],
   "source": [
    "import numpy as np \n",
    "import scipy as sp\n",
    "import matplotlib.pyplot as plt\n",
    "import pandas as pd"
   ]
  },
  {
   "cell_type": "markdown",
   "id": "b2017c91",
   "metadata": {},
   "source": [
    "# Data Types in Python"
   ]
  },
  {
   "cell_type": "markdown",
   "id": "5d1bdfd4",
   "metadata": {},
   "source": [
    "There are several different data types built into Python. You can check the data type of a variable or expression with the type function. First, we'll go over the three numeric data types in Python."
   ]
  },
  {
   "cell_type": "markdown",
   "id": "d41cb2e6",
   "metadata": {},
   "source": [
    "## Numerical Data Types"
   ]
  },
  {
   "cell_type": "code",
   "execution_count": 10,
   "id": "ac165e6f",
   "metadata": {},
   "outputs": [
    {
     "data": {
      "text/plain": [
       "(1, -10000, 48)"
      ]
     },
     "execution_count": 10,
     "metadata": {},
     "output_type": "execute_result"
    }
   ],
   "source": [
    "#Integer: Numbers with out any decimals \n",
    "\n",
    "1, -10000, 48"
   ]
  },
  {
   "cell_type": "code",
   "execution_count": 12,
   "id": "ca488754",
   "metadata": {},
   "outputs": [
    {
     "data": {
      "text/plain": [
       "(0.333333, 0.5, 1.4, 2.0)"
      ]
     },
     "execution_count": 12,
     "metadata": {},
     "output_type": "execute_result"
    }
   ],
   "source": [
    "#Float: Any number with a decimal \n",
    "\n",
    "0.333333, 0.5, 1.4, 2.0"
   ]
  },
  {
   "cell_type": "code",
   "execution_count": 14,
   "id": "d37038b0",
   "metadata": {},
   "outputs": [
    {
     "data": {
      "text/plain": [
       "(5j, (2+3j), 3j)"
      ]
     },
     "execution_count": 14,
     "metadata": {},
     "output_type": "execute_result"
    }
   ],
   "source": [
    "#Complex: Number with an imaginary number \n",
    "\n",
    "5j, 2+3j, 3.0j\n"
   ]
  },
  {
   "cell_type": "markdown",
   "id": "7893357b",
   "metadata": {},
   "source": [
    "## The *type()* function "
   ]
  },
  {
   "cell_type": "markdown",
   "id": "b35fde87",
   "metadata": {},
   "source": [
    "The type function returns the data type of an object that you input."
   ]
  },
  {
   "cell_type": "code",
   "execution_count": 5,
   "id": "19baa3d0",
   "metadata": {},
   "outputs": [
    {
     "data": {
      "text/plain": [
       "(int, float, complex)"
      ]
     },
     "execution_count": 5,
     "metadata": {},
     "output_type": "execute_result"
    }
   ],
   "source": [
    "#Using the type function on different numerical data types \n",
    "type(-1000), type(0.333), type(3.0j)"
   ]
  },
  {
   "cell_type": "markdown",
   "id": "b520354a",
   "metadata": {},
   "source": [
    "## Strings"
   ]
  },
  {
   "cell_type": "markdown",
   "id": "d16a5bac",
   "metadata": {},
   "source": [
    "The next data type is string. Strings are a character-based data type. Each character within the string is considered an element by python."
   ]
  },
  {
   "cell_type": "code",
   "execution_count": 6,
   "id": "54bf533f",
   "metadata": {},
   "outputs": [
    {
     "data": {
      "text/plain": [
       "'Hello World'"
      ]
     },
     "execution_count": 6,
     "metadata": {},
     "output_type": "execute_result"
    }
   ],
   "source": [
    "\"Hello World\" #This is a string"
   ]
  },
  {
   "cell_type": "code",
   "execution_count": 7,
   "id": "4ac02368",
   "metadata": {},
   "outputs": [
    {
     "data": {
      "text/plain": [
       "'Mr. Krabs, he was number 1!'"
      ]
     },
     "execution_count": 7,
     "metadata": {},
     "output_type": "execute_result"
    }
   ],
   "source": [
    "\"Mr. Krabs, he was number 1!\" #You can use numbers and special characters in addition to alphabetical \n",
    "                              #characters in strings"
   ]
  },
  {
   "cell_type": "code",
   "execution_count": 8,
   "id": "7a9cc002",
   "metadata": {},
   "outputs": [
    {
     "data": {
      "text/plain": [
       "str"
      ]
     },
     "execution_count": 8,
     "metadata": {},
     "output_type": "execute_result"
    }
   ],
   "source": [
    "#Showing type function on string data type \n",
    "type(\"Hello World\") "
   ]
  },
  {
   "cell_type": "markdown",
   "id": "c8f516de",
   "metadata": {},
   "source": [
    "## Boleans"
   ]
  },
  {
   "cell_type": "markdown",
   "id": "4c46af27",
   "metadata": {},
   "source": [
    "Booleans are a logical data type. There are only two possible values for Booleans **True** and **False**."
   ]
  },
  {
   "cell_type": "code",
   "execution_count": 9,
   "id": "75541cb9",
   "metadata": {},
   "outputs": [
    {
     "data": {
      "text/plain": [
       "(True, False)"
      ]
     },
     "execution_count": 9,
     "metadata": {},
     "output_type": "execute_result"
    }
   ],
   "source": [
    "#Two Boolean values in Python \n",
    "(True,False) #Note: The first letter MUST be capitalized. Otherwise, python will return an error."
   ]
  },
  {
   "cell_type": "markdown",
   "id": "5cbb9e7f",
   "metadata": {},
   "source": [
    "## Declaring a Variable"
   ]
  },
  {
   "cell_type": "markdown",
   "id": "0f6faf9b",
   "metadata": {},
   "source": [
    "A variable is a reserved memory space that stores data. This is especially helpful if you want to call a specific piece of data later in your code. You would only have to store the variable. \n",
    "\n",
    "There are a few naming conventions when coming up with a variable:\n",
    "1. Cannot contain special characters **(except _ )** in a variable \n",
    "2. Cannot start name with a number \n",
    "3. Cannot contain spaces "
   ]
  },
  {
   "cell_type": "code",
   "execution_count": 10,
   "id": "8c528984",
   "metadata": {},
   "outputs": [
    {
     "data": {
      "text/plain": [
       "3"
      ]
     },
     "execution_count": 10,
     "metadata": {},
     "output_type": "execute_result"
    }
   ],
   "source": [
    "#Declaring a Variable \n",
    "a = 3\n",
    "#Returning a Variable \n",
    "a"
   ]
  },
  {
   "cell_type": "markdown",
   "id": "04c8a260",
   "metadata": {},
   "source": [
    "## Lists"
   ]
  },
  {
   "cell_type": "markdown",
   "id": "230f952a",
   "metadata": {},
   "source": [
    "Lists are an ordered collection of value/data. Thye denoted with square brackets \"[ ]\". "
   ]
  },
  {
   "cell_type": "code",
   "execution_count": 11,
   "id": "49c94084",
   "metadata": {},
   "outputs": [
    {
     "data": {
      "text/plain": [
       "[0, 'eleven', -89, False]"
      ]
     },
     "execution_count": 11,
     "metadata": {},
     "output_type": "execute_result"
    }
   ],
   "source": [
    "my_list = [0,'eleven',-89,False] \n",
    "my_list"
   ]
  },
  {
   "cell_type": "markdown",
   "id": "e60a563c",
   "metadata": {},
   "source": [
    "You can even store lists within lists. "
   ]
  },
  {
   "cell_type": "code",
   "execution_count": 12,
   "id": "85224bb4",
   "metadata": {},
   "outputs": [
    {
     "data": {
      "text/plain": [
       "[[2, 4, 6, 8], [3, 6, 9], [4, 8, 12]]"
      ]
     },
     "execution_count": 12,
     "metadata": {},
     "output_type": "execute_result"
    }
   ],
   "source": [
    "nested_list = [[2,4,6,8],[3,6,9],[4,8,12]]\n",
    "nested_list "
   ]
  },
  {
   "cell_type": "markdown",
   "id": "4894d169",
   "metadata": {},
   "source": [
    "## Dictionaries"
   ]
  },
  {
   "cell_type": "markdown",
   "id": "3c40a8be",
   "metadata": {},
   "source": [
    "Dictionaries are an unordered collection of data. They are comprised of keys and values and are denoted with curly brackets \"{key: data/values }\"."
   ]
  },
  {
   "cell_type": "code",
   "execution_count": 13,
   "id": "f420e10f",
   "metadata": {},
   "outputs": [],
   "source": [
    "my_dict = {\"colors\":[\"red\",\"blue\",\"green\",\"yellow\"],\"numbers\":[1,2,3,4]}"
   ]
  },
  {
   "cell_type": "markdown",
   "id": "11e9f94f",
   "metadata": {},
   "source": [
    "You can call specific data from the dictionary using the keys."
   ]
  },
  {
   "cell_type": "code",
   "execution_count": 14,
   "id": "8785d5ca",
   "metadata": {},
   "outputs": [
    {
     "data": {
      "text/plain": [
       "['red', 'blue', 'green', 'yellow']"
      ]
     },
     "execution_count": 14,
     "metadata": {},
     "output_type": "execute_result"
    }
   ],
   "source": [
    "my_dict[\"colors\"]"
   ]
  },
  {
   "cell_type": "markdown",
   "id": "ee865a33",
   "metadata": {},
   "source": [
    "## Functions related to Data Types"
   ]
  },
  {
   "cell_type": "markdown",
   "id": "2395dd61",
   "metadata": {},
   "source": [
    "You can convert some data types into others. You can converts **floats** into **integers**."
   ]
  },
  {
   "cell_type": "code",
   "execution_count": 15,
   "id": "e9391fdf",
   "metadata": {},
   "outputs": [
    {
     "data": {
      "text/plain": [
       "4"
      ]
     },
     "execution_count": 15,
     "metadata": {},
     "output_type": "execute_result"
    }
   ],
   "source": [
    "int(4.7)"
   ]
  },
  {
   "cell_type": "markdown",
   "id": "4ea16574",
   "metadata": {},
   "source": [
    "You can convert **integers** into **floats**."
   ]
  },
  {
   "cell_type": "code",
   "execution_count": 16,
   "id": "508d1a7e",
   "metadata": {},
   "outputs": [
    {
     "data": {
      "text/plain": [
       "5.0"
      ]
     },
     "execution_count": 16,
     "metadata": {},
     "output_type": "execute_result"
    }
   ],
   "source": [
    "float(5)"
   ]
  },
  {
   "cell_type": "markdown",
   "id": "7851c1bd",
   "metadata": {},
   "source": [
    "You can convert **floats** and **integer** into **complex** values."
   ]
  },
  {
   "cell_type": "code",
   "execution_count": 17,
   "id": "7949a989",
   "metadata": {},
   "outputs": [
    {
     "data": {
      "text/plain": [
       "((54+0j), (4.8+0j))"
      ]
     },
     "execution_count": 17,
     "metadata": {},
     "output_type": "execute_result"
    }
   ],
   "source": [
    "complex(54),complex(4.8)"
   ]
  },
  {
   "cell_type": "markdown",
   "id": "88d4f1ac",
   "metadata": {},
   "source": [
    "You can convert **any** data type into a string with the exception of functions."
   ]
  },
  {
   "cell_type": "code",
   "execution_count": 18,
   "id": "46c9b27a",
   "metadata": {},
   "outputs": [
    {
     "data": {
      "text/plain": [
       "('23432', 'True', '5j')"
      ]
     },
     "execution_count": 18,
     "metadata": {},
     "output_type": "execute_result"
    }
   ],
   "source": [
    "str(23432),str(True),str(5j),"
   ]
  },
  {
   "cell_type": "markdown",
   "id": "b19916ff",
   "metadata": {},
   "source": [
    "You can convert any data type into a boolean with the **bool** function. For a non-zero input, the function will return a True, and for an input of **0**, the function will return a **False**."
   ]
  },
  {
   "cell_type": "code",
   "execution_count": 19,
   "id": "437a23f9",
   "metadata": {},
   "outputs": [
    {
     "data": {
      "text/plain": [
       "(True, False)"
      ]
     },
     "execution_count": 19,
     "metadata": {},
     "output_type": "execute_result"
    }
   ],
   "source": [
    "bool('zero'),bool(0)"
   ]
  },
  {
   "cell_type": "markdown",
   "id": "afa8c22c",
   "metadata": {},
   "source": [
    "You can create a new list using the **list** function."
   ]
  },
  {
   "cell_type": "code",
   "execution_count": 20,
   "id": "e635508b",
   "metadata": {},
   "outputs": [
    {
     "data": {
      "text/plain": [
       "[8, 'nine']"
      ]
     },
     "execution_count": 20,
     "metadata": {},
     "output_type": "execute_result"
    }
   ],
   "source": [
    "list((8,'nine'))"
   ]
  },
  {
   "cell_type": "markdown",
   "id": "8d327066",
   "metadata": {},
   "source": [
    "You can create a new dictionary with the **dict** function."
   ]
  },
  {
   "cell_type": "code",
   "execution_count": 21,
   "id": "b187bb6f",
   "metadata": {},
   "outputs": [
    {
     "data": {
      "text/plain": [
       "{'uno': 'one', 'dos': 'two', 'tres': 'three'}"
      ]
     },
     "execution_count": 21,
     "metadata": {},
     "output_type": "execute_result"
    }
   ],
   "source": [
    "dict(uno='one',dos='two',tres='three')"
   ]
  },
  {
   "cell_type": "markdown",
   "id": "a6643e66",
   "metadata": {},
   "source": [
    "# Other Basic Functions"
   ]
  },
  {
   "cell_type": "markdown",
   "id": "96bc0f4d",
   "metadata": {},
   "source": [
    "There are other built-in functions of Python that are useful to use. First is the **len()** function. It will tell the length of collection of data such as a dictionary, string, list, etc.  "
   ]
  },
  {
   "cell_type": "code",
   "execution_count": 22,
   "id": "caacac3d",
   "metadata": {},
   "outputs": [
    {
     "data": {
      "text/plain": [
       "(11, 3, 3)"
      ]
     },
     "execution_count": 22,
     "metadata": {},
     "output_type": "execute_result"
    }
   ],
   "source": [
    "len('Hello World'), len([13,89,54]),len(dict(uno='one',dos='two',tres='three'))"
   ]
  },
  {
   "cell_type": "markdown",
   "id": "bc258419",
   "metadata": {},
   "source": [
    "Another useful function is the **print()** function. It will print the value of the object you input. This is handy when trying to find what is saved in a variable. "
   ]
  },
  {
   "cell_type": "code",
   "execution_count": 23,
   "id": "93fd7e3a",
   "metadata": {},
   "outputs": [
    {
     "name": "stdout",
     "output_type": "stream",
     "text": [
      "3\n"
     ]
    }
   ],
   "source": [
    "#Printing our previous variable \"a\"\n",
    "print(a)"
   ]
  },
  {
   "cell_type": "markdown",
   "id": "d30fe4eb",
   "metadata": {},
   "source": [
    "Two other built in function are the **max** and **min** functions. These functions return the element from an ordered collection of data such as a list, dictionary, numpy array, etc."
   ]
  },
  {
   "cell_type": "code",
   "execution_count": 24,
   "id": "34f852da",
   "metadata": {},
   "outputs": [
    {
     "data": {
      "text/plain": [
       "([4, 8, 12], [2, 4, 6, 8])"
      ]
     },
     "execution_count": 24,
     "metadata": {},
     "output_type": "execute_result"
    }
   ],
   "source": [
    "max(nested_list), min(nested_list)"
   ]
  },
  {
   "cell_type": "markdown",
   "id": "646d8312",
   "metadata": {},
   "source": [
    "# Basic Arithmetic "
   ]
  },
  {
   "cell_type": "markdown",
   "id": "91ad0dab",
   "metadata": {},
   "source": [
    "Most basic mathematical operations are built-in to Python such as addition, subtraction, multiplication, and division etc. All numerical types can have basic arithmetric performed on them."
   ]
  },
  {
   "cell_type": "code",
   "execution_count": 25,
   "id": "b026564f",
   "metadata": {},
   "outputs": [
    {
     "data": {
      "text/plain": [
       "(11, 'Grey Glacier!', 'a = 3')"
      ]
     },
     "execution_count": 25,
     "metadata": {},
     "output_type": "execute_result"
    }
   ],
   "source": [
    "#Addition\n",
    "\n",
    "8+3, \"Grey Glacier\"+\"!\", \"a = \"+str(a) #You can do addition with strings as well!"
   ]
  },
  {
   "cell_type": "code",
   "execution_count": 26,
   "id": "e0640a5e",
   "metadata": {},
   "outputs": [
    {
     "data": {
      "text/plain": [
       "5"
      ]
     },
     "execution_count": 26,
     "metadata": {},
     "output_type": "execute_result"
    }
   ],
   "source": [
    "#Subtraction\n",
    "\n",
    "8-3"
   ]
  },
  {
   "cell_type": "code",
   "execution_count": 27,
   "id": "13531526",
   "metadata": {},
   "outputs": [
    {
     "data": {
      "text/plain": [
       "(24.0, 'Grey GlacierGrey GlacierGrey GlacierGrey GlacierGrey Glacier')"
      ]
     },
     "execution_count": 27,
     "metadata": {},
     "output_type": "execute_result"
    }
   ],
   "source": [
    "#Multiplication\n",
    "8*3.0, \"Grey Glacier\"*5 #You can also do multiplication with string too\n",
    "#It repeats the string the number that you multiply it by"
   ]
  },
  {
   "cell_type": "code",
   "execution_count": 28,
   "id": "a78ed97d",
   "metadata": {},
   "outputs": [
    {
     "data": {
      "text/plain": [
       "2.6666666666666665j"
      ]
     },
     "execution_count": 28,
     "metadata": {},
     "output_type": "execute_result"
    }
   ],
   "source": [
    "#Division\n",
    "8j/3"
   ]
  },
  {
   "cell_type": "markdown",
   "id": "069f4b78",
   "metadata": {},
   "source": [
    "There is also a built in function to calculate the exponent as well."
   ]
  },
  {
   "cell_type": "code",
   "execution_count": 29,
   "id": "c9b0d637",
   "metadata": {},
   "outputs": [
    {
     "data": {
      "text/plain": [
       "8.0"
      ]
     },
     "execution_count": 29,
     "metadata": {},
     "output_type": "execute_result"
    }
   ],
   "source": [
    "#Raising a value to an exponent\n",
    "\n",
    "2.0**3"
   ]
  },
  {
   "cell_type": "markdown",
   "id": "35596b89",
   "metadata": {},
   "source": [
    "# Logical Conditional Statements"
   ]
  },
  {
   "cell_type": "markdown",
   "id": "e8d8ccad",
   "metadata": {},
   "source": [
    "Here are some basic mathematical operators for numerical data types that return booleans: <br>\n",
    "Greater than: > <br>\n",
    "Less than: < <br>\n",
    "Greater than or equal to: ≥ <br>\n",
    "Less than or equal to: ≤ <br>\n",
    "Equal to: = <br>"
   ]
  },
  {
   "cell_type": "code",
   "execution_count": 30,
   "id": "14ecc709",
   "metadata": {},
   "outputs": [
    {
     "data": {
      "text/plain": [
       "(True, False)"
      ]
     },
     "execution_count": 30,
     "metadata": {},
     "output_type": "execute_result"
    }
   ],
   "source": [
    "#Greater than \n",
    "3>0, 22/7 > 36/8"
   ]
  },
  {
   "cell_type": "code",
   "execution_count": 31,
   "id": "192a4ab1",
   "metadata": {},
   "outputs": [
    {
     "data": {
      "text/plain": [
       "(True, False)"
      ]
     },
     "execution_count": 31,
     "metadata": {},
     "output_type": "execute_result"
    }
   ],
   "source": [
    "#Less than \n",
    "8<9, 4/3 < 3/4"
   ]
  },
  {
   "cell_type": "code",
   "execution_count": 32,
   "id": "e57ef48b",
   "metadata": {},
   "outputs": [
    {
     "data": {
      "text/plain": [
       "(True, False)"
      ]
     },
     "execution_count": 32,
     "metadata": {},
     "output_type": "execute_result"
    }
   ],
   "source": [
    "#Greater than or equal to\n",
    "3.5>=3, 3.5>=4"
   ]
  },
  {
   "cell_type": "code",
   "execution_count": 33,
   "id": "c6edfe87",
   "metadata": {},
   "outputs": [
    {
     "data": {
      "text/plain": [
       "(True, True)"
      ]
     },
     "execution_count": 33,
     "metadata": {},
     "output_type": "execute_result"
    }
   ],
   "source": [
    "#Less than or equal to\n",
    "5.0<= 10, 6/9<=2/3"
   ]
  },
  {
   "cell_type": "code",
   "execution_count": 34,
   "id": "6d69e54a",
   "metadata": {},
   "outputs": [
    {
     "data": {
      "text/plain": [
       "True"
      ]
     },
     "execution_count": 34,
     "metadata": {},
     "output_type": "execute_result"
    }
   ],
   "source": [
    "#Equal to\n",
    "5==5.0"
   ]
  },
  {
   "cell_type": "markdown",
   "id": "7ff1adfe",
   "metadata": {},
   "source": [
    "# NumPy "
   ]
  },
  {
   "cell_type": "markdown",
   "id": "885ca7c8",
   "metadata": {},
   "source": [
    "NumPy is a open-source numerical computing library and is the one of the most commonly used libraries in python. Other python packages and libraries are built up from or are dependent on NumPy. This library introduces a new data type known as the **numpy array**.<br>\n",
    "\n",
    "<br> The **numpy array** is another ordered collection of data. "
   ]
  },
  {
   "cell_type": "code",
   "execution_count": 35,
   "id": "f071da2b",
   "metadata": {},
   "outputs": [
    {
     "name": "stdout",
     "output_type": "stream",
     "text": [
      "[ 1  3  5  7 11 13 17]\n"
     ]
    },
    {
     "data": {
      "text/plain": [
       "numpy.ndarray"
      ]
     },
     "execution_count": 35,
     "metadata": {},
     "output_type": "execute_result"
    }
   ],
   "source": [
    "my_array = np.array([1, 3, 5, 7, 11, 13, 17]) #Creating a new array \n",
    "print(my_array), #Printing our new array \n",
    "type(my_array) #A NumPy array is it's own data type, which Python recognizes"
   ]
  },
  {
   "cell_type": "markdown",
   "id": "6e64b735",
   "metadata": {},
   "source": [
    "There are several numpy functions that will build a numpy array with pre-filled values. These functions require the desired dimensions of the array. "
   ]
  },
  {
   "cell_type": "code",
   "execution_count": 36,
   "id": "74566dfc",
   "metadata": {},
   "outputs": [
    {
     "data": {
      "text/plain": [
       "array([[1., 1., 1.],\n",
       "       [1., 1., 1.]])"
      ]
     },
     "execution_count": 36,
     "metadata": {},
     "output_type": "execute_result"
    }
   ],
   "source": [
    "#Creating an array filled with ones \n",
    "ones_array = np.ones((2,3))\n",
    "ones_array"
   ]
  },
  {
   "cell_type": "markdown",
   "id": "703e6783",
   "metadata": {},
   "source": [
    "Contrary to the list, numpy array can be multi-dimensional. The array we just created is a 2 x 3 with two rows and three columns."
   ]
  },
  {
   "cell_type": "code",
   "execution_count": 37,
   "id": "960d64ff",
   "metadata": {},
   "outputs": [
    {
     "data": {
      "text/plain": [
       "array([0., 0., 0., 0., 0., 0., 0., 0., 0., 0., 0., 0., 0., 0., 0., 0., 0.,\n",
       "       0., 0., 0., 0., 0., 0., 0., 0., 0., 0., 0., 0., 0., 0., 0., 0., 0.,\n",
       "       0., 0., 0., 0., 0., 0., 0., 0., 0., 0., 0., 0., 0., 0., 0., 0.])"
      ]
     },
     "execution_count": 37,
     "metadata": {},
     "output_type": "execute_result"
    }
   ],
   "source": [
    "#Creating an array filled with zeros \n",
    "zeros_array = np.zeros(50)\n",
    "zeros_array"
   ]
  },
  {
   "cell_type": "markdown",
   "id": "40d2677d",
   "metadata": {},
   "source": [
    "Feeding it one value will assume 1-D array. "
   ]
  },
  {
   "cell_type": "markdown",
   "id": "c65237b0",
   "metadata": {},
   "source": [
    "There are also functions that can create an ordered array of values. These functions are known as **linspace** and **arange**. **linspace** requires the desired first and last values of the array as well as the desired number of elements in the array"
   ]
  },
  {
   "cell_type": "code",
   "execution_count": 38,
   "id": "d8e89fc7",
   "metadata": {},
   "outputs": [
    {
     "data": {
      "text/plain": [
       "array([  1.        ,   3.02040816,   5.04081633,   7.06122449,\n",
       "         9.08163265,  11.10204082,  13.12244898,  15.14285714,\n",
       "        17.16326531,  19.18367347,  21.20408163,  23.2244898 ,\n",
       "        25.24489796,  27.26530612,  29.28571429,  31.30612245,\n",
       "        33.32653061,  35.34693878,  37.36734694,  39.3877551 ,\n",
       "        41.40816327,  43.42857143,  45.44897959,  47.46938776,\n",
       "        49.48979592,  51.51020408,  53.53061224,  55.55102041,\n",
       "        57.57142857,  59.59183673,  61.6122449 ,  63.63265306,\n",
       "        65.65306122,  67.67346939,  69.69387755,  71.71428571,\n",
       "        73.73469388,  75.75510204,  77.7755102 ,  79.79591837,\n",
       "        81.81632653,  83.83673469,  85.85714286,  87.87755102,\n",
       "        89.89795918,  91.91836735,  93.93877551,  95.95918367,\n",
       "        97.97959184, 100.        ])"
      ]
     },
     "execution_count": 38,
     "metadata": {},
     "output_type": "execute_result"
    }
   ],
   "source": [
    "#Linspace\n",
    "x_lin = np.linspace(1,100,50)\n",
    "x_lin"
   ]
  },
  {
   "cell_type": "markdown",
   "id": "6d8bf458",
   "metadata": {},
   "source": [
    "**arange** follows the same format where it requires the desired first and final value of the array but instead of asking for the number of elements in the array, it asks for the numerical step between each element in the array. It determines the total number of elements that will be in the array from the step size. "
   ]
  },
  {
   "cell_type": "code",
   "execution_count": 39,
   "id": "fae0fd12",
   "metadata": {},
   "outputs": [
    {
     "data": {
      "text/plain": [
       "array([ 1.  ,  2.98,  4.96,  6.94,  8.92, 10.9 , 12.88, 14.86, 16.84,\n",
       "       18.82, 20.8 , 22.78, 24.76, 26.74, 28.72, 30.7 , 32.68, 34.66,\n",
       "       36.64, 38.62, 40.6 , 42.58, 44.56, 46.54, 48.52, 50.5 , 52.48,\n",
       "       54.46, 56.44, 58.42, 60.4 , 62.38, 64.36, 66.34, 68.32, 70.3 ,\n",
       "       72.28, 74.26, 76.24, 78.22, 80.2 , 82.18, 84.16, 86.14, 88.12,\n",
       "       90.1 , 92.08, 94.06, 96.04, 98.02])"
      ]
     },
     "execution_count": 39,
     "metadata": {},
     "output_type": "execute_result"
    }
   ],
   "source": [
    "#Arange \n",
    "x_arange = np.arange(1,100,(100-1)/50)\n",
    "x_arange"
   ]
  },
  {
   "cell_type": "markdown",
   "id": "fad35c08",
   "metadata": {},
   "source": [
    "NumPy can also create pre-filled arrays of the same size of other arrays with function such as **ones_like** and **zeros_like**. For these functions, the input is an array that you want to copy the size of."
   ]
  },
  {
   "cell_type": "code",
   "execution_count": 40,
   "id": "a7ac7b47",
   "metadata": {},
   "outputs": [
    {
     "data": {
      "text/plain": [
       "array([1., 1., 1., 1., 1., 1., 1., 1., 1., 1., 1., 1., 1., 1., 1., 1., 1.,\n",
       "       1., 1., 1., 1., 1., 1., 1., 1., 1., 1., 1., 1., 1., 1., 1., 1., 1.,\n",
       "       1., 1., 1., 1., 1., 1., 1., 1., 1., 1., 1., 1., 1., 1., 1., 1.])"
      ]
     },
     "execution_count": 40,
     "metadata": {},
     "output_type": "execute_result"
    }
   ],
   "source": [
    "#Ones_like\n",
    "ones_array2 = np.ones_like(x_arange)\n",
    "ones_array2 #Returns an array filled with ones the same size as x_arange"
   ]
  },
  {
   "cell_type": "code",
   "execution_count": 41,
   "id": "8d382800",
   "metadata": {},
   "outputs": [
    {
     "data": {
      "text/plain": [
       "array([0., 0., 0., 0., 0., 0., 0., 0., 0., 0., 0., 0., 0., 0., 0., 0., 0.,\n",
       "       0., 0., 0., 0., 0., 0., 0., 0., 0., 0., 0., 0., 0., 0., 0., 0., 0.,\n",
       "       0., 0., 0., 0., 0., 0., 0., 0., 0., 0., 0., 0., 0., 0., 0., 0.])"
      ]
     },
     "execution_count": 41,
     "metadata": {},
     "output_type": "execute_result"
    }
   ],
   "source": [
    "#Zeros_like\n",
    "zeros_array2 = np.zeros_like(x_lin)\n",
    "zeros_array2 #Returns an array filled with zeros the same size as x_lin"
   ]
  },
  {
   "cell_type": "markdown",
   "id": "065f0d09",
   "metadata": {},
   "source": [
    "# Indexing Interlude"
   ]
  },
  {
   "cell_type": "markdown",
   "id": "abe55407",
   "metadata": {},
   "source": [
    "Indexing is the process of accessing specific element(s) within a list, dictionary, numpy array, etc. <br> \n",
    "to index a collectional object simply put square brackets beside the variable containing the object and enter the position of the element you wish to call. <br>\n",
    "\n",
    "**Note: Python begins counting objects at 0, so the position of elements goes 0,1,2,...**\n",
    "<br>\n",
    "Additionally, when indexing **only use whole numbers** (or strings in the case of dictionaries/dataframes)"
   ]
  },
  {
   "cell_type": "code",
   "execution_count": 42,
   "id": "1c81b25b",
   "metadata": {},
   "outputs": [
    {
     "data": {
      "text/plain": [
       "0"
      ]
     },
     "execution_count": 42,
     "metadata": {},
     "output_type": "execute_result"
    }
   ],
   "source": [
    "#Indexing a list\n",
    "my_list[0] #First element of the list"
   ]
  },
  {
   "cell_type": "code",
   "execution_count": 43,
   "id": "d59b1953",
   "metadata": {},
   "outputs": [
    {
     "data": {
      "text/plain": [
       "13"
      ]
     },
     "execution_count": 43,
     "metadata": {},
     "output_type": "execute_result"
    }
   ],
   "source": [
    "#Indexing an array\n",
    "my_array[5]"
   ]
  },
  {
   "cell_type": "markdown",
   "id": "04e52e17",
   "metadata": {},
   "source": [
    "You can also index a series of values in a collectional object using the following syntax:<br>\n",
    "<br>\n",
    "varible[first_position:last_position:step]<br>\n",
    "**Note: the last position in the index is excluded**\n"
   ]
  },
  {
   "cell_type": "code",
   "execution_count": 44,
   "id": "77d809c9",
   "metadata": {},
   "outputs": [
    {
     "data": {
      "text/plain": [
       "array([1, 3, 5, 7])"
      ]
     },
     "execution_count": 44,
     "metadata": {},
     "output_type": "execute_result"
    }
   ],
   "source": [
    "#Calling the first four elements in an array\n",
    "my_array[0:4]"
   ]
  },
  {
   "cell_type": "code",
   "execution_count": 45,
   "id": "bd177aad",
   "metadata": {},
   "outputs": [
    {
     "data": {
      "text/plain": [
       "array([ 1.  ,  6.94, 12.88, 18.82, 24.76, 30.7 , 36.64, 42.58, 48.52,\n",
       "       54.46, 60.4 , 66.34, 72.28, 78.22, 84.16, 90.1 , 96.04])"
      ]
     },
     "execution_count": 45,
     "metadata": {},
     "output_type": "execute_result"
    }
   ],
   "source": [
    "#Calling every third element in an array \n",
    "x_arange[::3]"
   ]
  },
  {
   "cell_type": "markdown",
   "id": "2b0a09fa",
   "metadata": {},
   "source": [
    "You can also index in the opposite order of a collectional object by using negative values."
   ]
  },
  {
   "cell_type": "code",
   "execution_count": 46,
   "id": "21610dab",
   "metadata": {},
   "outputs": [
    {
     "data": {
      "text/plain": [
       "array([17, 13, 11,  7,  5,  3,  1])"
      ]
     },
     "execution_count": 46,
     "metadata": {},
     "output_type": "execute_result"
    }
   ],
   "source": [
    "#Calling an array in the oposite order\n",
    "my_array[::-1]"
   ]
  },
  {
   "cell_type": "markdown",
   "id": "e97541a8",
   "metadata": {},
   "source": [
    "Strings are also considered an collectional object. They are a collection of characters, which means you can index strings as well!"
   ]
  },
  {
   "cell_type": "code",
   "execution_count": 47,
   "id": "e141de8a",
   "metadata": {},
   "outputs": [
    {
     "data": {
      "text/plain": [
       "'sea'"
      ]
     },
     "execution_count": 47,
     "metadata": {},
     "output_type": "execute_result"
    }
   ],
   "source": [
    "#Indexing a string \n",
    "my_string = 'supercalifragilisticexpialidocious'\n",
    "\n",
    "#Calling every 3 chracter within the first 9 characters\n",
    "my_string[0:9:3]"
   ]
  },
  {
   "cell_type": "markdown",
   "id": "7ec8c6a5",
   "metadata": {},
   "source": [
    "You can index data structures of numerical data types with conditional statements. It will return a new data structure with the elements that satisfy the conditional statement (make the conditional statement **True**)."
   ]
  },
  {
   "cell_type": "code",
   "execution_count": 48,
   "id": "77107d28",
   "metadata": {},
   "outputs": [
    {
     "data": {
      "text/plain": [
       "array([60.4 , 62.38, 64.36, 66.34, 68.32, 70.3 , 72.28, 74.26, 76.24,\n",
       "       78.22, 80.2 , 82.18, 84.16, 86.14, 88.12, 90.1 , 92.08, 94.06,\n",
       "       96.04, 98.02])"
      ]
     },
     "execution_count": 48,
     "metadata": {},
     "output_type": "execute_result"
    }
   ],
   "source": [
    "x_arange[x_arange>=60]"
   ]
  },
  {
   "cell_type": "markdown",
   "id": "bfa31050",
   "metadata": {},
   "source": [
    "# Back to NumPy"
   ]
  },
  {
   "cell_type": "markdown",
   "id": "1a02e557",
   "metadata": {},
   "source": [
    "NumPy is a mathematical coomputing toolbox. There's an abudance of functions built-in functions that make performing mathematical operations for large sets of data simple and efficient."
   ]
  },
  {
   "cell_type": "markdown",
   "id": "390013c3",
   "metadata": {},
   "source": [
    "## Basic Mathematical Functions"
   ]
  },
  {
   "cell_type": "code",
   "execution_count": 49,
   "id": "2fd081aa",
   "metadata": {},
   "outputs": [
    {
     "data": {
      "text/plain": [
       "1.333"
      ]
     },
     "execution_count": 49,
     "metadata": {},
     "output_type": "execute_result"
    }
   ],
   "source": [
    "#Rounding a value/organized data set to n decimal places\n",
    "np.round(4/3,3)"
   ]
  },
  {
   "cell_type": "code",
   "execution_count": 50,
   "id": "bf3172f5",
   "metadata": {},
   "outputs": [
    {
     "data": {
      "text/plain": [
       "970"
      ]
     },
     "execution_count": 50,
     "metadata": {},
     "output_type": "execute_result"
    }
   ],
   "source": [
    "#Taking the sum of an organized data set \n",
    "#Creating artifical Data Set\n",
    "my_data = np.arange(1,100,5)\n",
    "\n",
    "#Computing the sum \n",
    "np.sum(my_data)"
   ]
  },
  {
   "cell_type": "code",
   "execution_count": 51,
   "id": "877ae846",
   "metadata": {},
   "outputs": [
    {
     "data": {
      "text/plain": [
       "(10.0,\n",
       " array([1.        , 2.44948974, 3.31662479, 4.        , 4.58257569,\n",
       "        5.09901951, 5.56776436, 6.        , 6.40312424, 6.78232998,\n",
       "        7.14142843, 7.48331477, 7.81024968, 8.1240384 , 8.42614977,\n",
       "        8.71779789, 9.        , 9.2736185 , 9.53939201, 9.79795897]))"
      ]
     },
     "execution_count": 51,
     "metadata": {},
     "output_type": "execute_result"
    }
   ],
   "source": [
    "#Taking the square root of an value/organized data set\n",
    "np.sqrt(100),np.sqrt(my_data)"
   ]
  },
  {
   "cell_type": "code",
   "execution_count": 52,
   "id": "08aa6701",
   "metadata": {},
   "outputs": [
    {
     "data": {
      "text/plain": [
       "(7.38905609893065,\n",
       " array([2.71828183e+00, 4.03428793e+02, 5.98741417e+04, 8.88611052e+06,\n",
       "        1.31881573e+09, 1.95729609e+11, 2.90488497e+13, 4.31123155e+15,\n",
       "        6.39843494e+17, 9.49611942e+19, 1.40934908e+22, 2.09165950e+24,\n",
       "        3.10429794e+26, 4.60718663e+28, 6.83767123e+30, 1.01480039e+33,\n",
       "        1.50609731e+35, 2.23524660e+37, 3.31740010e+39, 4.92345829e+41]))"
      ]
     },
     "execution_count": 52,
     "metadata": {},
     "output_type": "execute_result"
    }
   ],
   "source": [
    "#Raising a value/organized data as the power of e\n",
    "\n",
    "np.exp(2), np.exp(my_data)"
   ]
  },
  {
   "cell_type": "code",
   "execution_count": 53,
   "id": "fe01c572",
   "metadata": {},
   "outputs": [
    {
     "data": {
      "text/plain": [
       "(2.0794415416798357,\n",
       " array([0.        , 1.79175947, 2.39789527, 2.77258872, 3.04452244,\n",
       "        3.25809654, 3.4339872 , 3.58351894, 3.71357207, 3.8286414 ,\n",
       "        3.93182563, 4.02535169, 4.11087386, 4.18965474, 4.26267988,\n",
       "        4.33073334, 4.39444915, 4.4543473 , 4.51085951, 4.56434819]))"
      ]
     },
     "execution_count": 53,
     "metadata": {},
     "output_type": "execute_result"
    }
   ],
   "source": [
    "#Taking the natural logarithm (ln) of a value/organized data set\n",
    "np.log(8), np.log(my_data)"
   ]
  },
  {
   "cell_type": "code",
   "execution_count": 54,
   "id": "2c7e7284",
   "metadata": {},
   "outputs": [
    {
     "data": {
      "text/plain": [
       "(2.0,\n",
       " array([0.        , 0.77815125, 1.04139269, 1.20411998, 1.32221929,\n",
       "        1.41497335, 1.49136169, 1.5563025 , 1.61278386, 1.66275783,\n",
       "        1.70757018, 1.74818803, 1.78532984, 1.81954394, 1.85125835,\n",
       "        1.88081359, 1.90848502, 1.93449845, 1.95904139, 1.98227123]),\n",
       " 8.0,\n",
       " array([0.        , 2.5849625 , 3.45943162, 4.        , 4.39231742,\n",
       "        4.70043972, 4.95419631, 5.169925  , 5.357552  , 5.52356196,\n",
       "        5.67242534, 5.80735492, 5.93073734, 6.04439412, 6.14974712,\n",
       "        6.24792751, 6.33985   , 6.42626475, 6.50779464, 6.5849625 ]))"
      ]
     },
     "execution_count": 54,
     "metadata": {},
     "output_type": "execute_result"
    }
   ],
   "source": [
    "#Taking the logarithm of base 10/2 of a value/organized data \n",
    "\n",
    "np.log10(100), np.log10(my_data), np.log2(256),np.log2(my_data)"
   ]
  },
  {
   "cell_type": "code",
   "execution_count": 55,
   "id": "9c9803a5",
   "metadata": {},
   "outputs": [
    {
     "data": {
      "text/plain": [
       "(87.0,\n",
       " array([ 1,  6, 11, 16, 21, 26, 31, 36, 41, 46, 51, 56, 61, 66, 71, 76, 81,\n",
       "        86, 91, 96]))"
      ]
     },
     "execution_count": 55,
     "metadata": {},
     "output_type": "execute_result"
    }
   ],
   "source": [
    "#Taking an absolute value of a value/organized data set \n",
    "\n",
    "np.abs(-87j), np.abs(-1*my_data)"
   ]
  },
  {
   "cell_type": "markdown",
   "id": "285b0796",
   "metadata": {},
   "source": [
    "## Trigonometric Functions"
   ]
  },
  {
   "cell_type": "markdown",
   "id": "90f85370",
   "metadata": {},
   "source": [
    "With trigonometric functions, python automatically assumes the input value to be in radians. Fortunately, numpy also has functions that can convert angles from degrees to radians and vice versa. "
   ]
  },
  {
   "cell_type": "code",
   "execution_count": 56,
   "id": "1ea08106",
   "metadata": {},
   "outputs": [
    {
     "data": {
      "text/plain": [
       "(array([-3.14159265, -2.61799388, -2.0943951 , -1.57079633, -1.04719755,\n",
       "        -0.52359878,  0.        ,  0.52359878,  1.04719755,  1.57079633,\n",
       "         2.0943951 ,  2.61799388]),\n",
       " array([-3.14159265, -2.61799388, -2.0943951 , -1.57079633, -1.04719755,\n",
       "        -0.52359878,  0.        ,  0.52359878,  1.04719755,  1.57079633,\n",
       "         2.0943951 ,  2.61799388]))"
      ]
     },
     "execution_count": 56,
     "metadata": {},
     "output_type": "execute_result"
    }
   ],
   "source": [
    "#Degrees to Radians\n",
    "#Creating an array of angles in degrees \n",
    "angles_deg = np.arange(-180,180,30)\n",
    "\n",
    "#Converting an angle from degrees to radians\n",
    "np.radians(angles_deg), np.deg2rad(angles_deg)"
   ]
  },
  {
   "cell_type": "code",
   "execution_count": 57,
   "id": "19b924d4",
   "metadata": {},
   "outputs": [
    {
     "data": {
      "text/plain": [
       "(array([-1.79994691e+02, -1.64995134e+02, -1.49995576e+02, -1.34996019e+02,\n",
       "        -1.19996461e+02, -1.04996903e+02, -8.99973457e+01, -7.49977881e+01,\n",
       "        -5.99982304e+01, -4.49986728e+01, -2.99991152e+01, -1.49995576e+01,\n",
       "         1.27222187e-13,  1.49995576e+01,  2.99991152e+01,  4.49986728e+01,\n",
       "         5.99982304e+01,  7.49977881e+01,  8.99973457e+01,  1.04996903e+02,\n",
       "         1.19996461e+02,  1.34996019e+02,  1.49995576e+02,  1.64995134e+02]),\n",
       " array([-1.79994691e+02, -1.64995134e+02, -1.49995576e+02, -1.34996019e+02,\n",
       "        -1.19996461e+02, -1.04996903e+02, -8.99973457e+01, -7.49977881e+01,\n",
       "        -5.99982304e+01, -4.49986728e+01, -2.99991152e+01, -1.49995576e+01,\n",
       "         1.27222187e-13,  1.49995576e+01,  2.99991152e+01,  4.49986728e+01,\n",
       "         5.99982304e+01,  7.49977881e+01,  8.99973457e+01,  1.04996903e+02,\n",
       "         1.19996461e+02,  1.34996019e+02,  1.49995576e+02,  1.64995134e+02]))"
      ]
     },
     "execution_count": 57,
     "metadata": {},
     "output_type": "execute_result"
    }
   ],
   "source": [
    "#Radians to Degrees\n",
    "#Creating an array of angles in radians\n",
    "angles_rad = np.arange(-3.1415, 3.1415, 3.1415/12)\n",
    "\n",
    "#Converting an angle from degrees to radians\n",
    "np.degrees(angles_rad), np.rad2deg(angles_rad)"
   ]
  },
  {
   "cell_type": "markdown",
   "id": "24310638",
   "metadata": {},
   "source": [
    "The basic trigonmetric functions: sine, cosine, and tangent are built-into NumPy and their inverse functions: arcsine, arccosine, and arcsine. "
   ]
  },
  {
   "cell_type": "code",
   "execution_count": 58,
   "id": "67e9ca79",
   "metadata": {},
   "outputs": [
    {
     "data": {
      "text/plain": [
       "(array([-9.26535897e-05, -2.58901083e-01, -5.00066865e-01, -7.07155916e-01,\n",
       "        -8.66056287e-01, -9.65939814e-01, -9.99999999e-01, -9.65915834e-01,\n",
       "        -8.66009961e-01, -7.07090402e-01, -4.99986627e-01, -2.58811587e-01,\n",
       "         2.22044605e-15,  2.58811587e-01,  4.99986627e-01,  7.07090402e-01,\n",
       "         8.66009961e-01,  9.65915834e-01,  9.99999999e-01,  9.65939814e-01,\n",
       "         8.66056287e-01,  7.07155916e-01,  5.00066865e-01,  2.58901083e-01]),\n",
       " array([-1.57079633, -1.1078416 , -0.90995103, -0.75352062, -0.6174371 ,\n",
       "        -0.49346939, -0.37731003, -0.26629402, -0.15855828, -0.05265591,\n",
       "         0.05265591,  0.15855828,  0.26629402,  0.37731003,  0.49346939,\n",
       "         0.6174371 ,  0.75352062,  0.90995103,  1.1078416 ,  1.57079633]))"
      ]
     },
     "execution_count": 58,
     "metadata": {},
     "output_type": "execute_result"
    }
   ],
   "source": [
    "#Sine and Arcsine \n",
    "#Creating an array of full wave period\n",
    "wave_array = np.linspace(-1,1,20)\n",
    "\n",
    "#Sine and Arcsine Functions\n",
    "np.sin(angles_rad), np.arcsin(wave_array)"
   ]
  },
  {
   "cell_type": "code",
   "execution_count": 59,
   "id": "4579f876",
   "metadata": {},
   "outputs": [
    {
     "data": {
      "text/plain": [
       "(array([-9.99999996e-01, -9.65903841e-01, -8.65986796e-01, -7.07057642e-01,\n",
       "        -4.99946505e-01, -2.58766838e-01,  4.63267949e-05,  2.58856335e-01,\n",
       "         5.00026747e-01,  7.07123160e-01,  8.66033125e-01,  9.65927825e-01,\n",
       "         1.00000000e+00,  9.65927825e-01,  8.66033125e-01,  7.07123160e-01,\n",
       "         5.00026747e-01,  2.58856335e-01,  4.63267949e-05, -2.58766838e-01,\n",
       "        -4.99946505e-01, -7.07057642e-01, -8.65986796e-01, -9.65903841e-01]),\n",
       " array([3.14159265, 2.67863793, 2.48074736, 2.32431694, 2.18823343,\n",
       "        2.06426572, 1.94810636, 1.83709034, 1.72935461, 1.62345224,\n",
       "        1.51814042, 1.41223805, 1.30450231, 1.19348629, 1.07732693,\n",
       "        0.95335922, 0.81727571, 0.6608453 , 0.46295473, 0.        ]))"
      ]
     },
     "execution_count": 59,
     "metadata": {},
     "output_type": "execute_result"
    }
   ],
   "source": [
    "#Cosine and Arccosine\n",
    "np.cos(angles_rad), np.arccos(wave_array)"
   ]
  },
  {
   "cell_type": "code",
   "execution_count": 60,
   "id": "f16e401e",
   "metadata": {},
   "outputs": [
    {
     "data": {
      "text/plain": [
       "(array([ 9.26535901e-05,  2.68040225e-01,  5.77453222e-01,  1.00013899e+00,\n",
       "         1.73229791e+00,  3.73285781e+00, -2.15857799e+04, -3.73147458e+00,\n",
       "        -1.73192728e+00, -9.99953674e-01, -5.77329680e-01, -2.67940917e-01,\n",
       "         2.22044605e-15,  2.67940917e-01,  5.77329680e-01,  9.99953674e-01,\n",
       "         1.73192728e+00,  3.73147458e+00,  2.15857799e+04, -3.73285781e+00,\n",
       "        -1.73229791e+00, -1.00013899e+00, -5.77453222e-01, -2.68040225e-01]),\n",
       " array([-1.26261873e+00, -1.23656690e+00, -1.20591756e+00, -1.16941222e+00,\n",
       "        -1.12532737e+00, -1.07126802e+00, -1.00387146e+00, -9.18416568e-01,\n",
       "        -8.08434062e-01, -6.65759424e-01, -4.82335787e-01, -2.56045544e-01,\n",
       "         2.22044605e-15,  2.56045544e-01,  4.82335787e-01,  6.65759424e-01,\n",
       "         8.08434062e-01,  9.18416568e-01,  1.00387146e+00,  1.07126802e+00,\n",
       "         1.12532737e+00,  1.16941222e+00,  1.20591756e+00,  1.23656690e+00]))"
      ]
     },
     "execution_count": 60,
     "metadata": {},
     "output_type": "execute_result"
    }
   ],
   "source": [
    "#Tangent and Arctangent\n",
    "np.tan(angles_rad), np.arctan(angles_rad)"
   ]
  },
  {
   "cell_type": "markdown",
   "id": "486fdb9a",
   "metadata": {},
   "source": [
    "The hyperbolic trigonometrics functions are also built-into NumPy as well following the same syntax as the standard functions: <br>\n",
    "\n",
    "- np.sinh( )\n",
    "- np.cosh( )\n",
    "- np.tanh( )\n",
    "- np.arcsinh( ) \n",
    "- np.arccosh( )\n",
    "- np.arctanh( )"
   ]
  },
  {
   "cell_type": "markdown",
   "id": "64b1d55c",
   "metadata": {},
   "source": [
    "## Statistical Functions"
   ]
  },
  {
   "cell_type": "markdown",
   "id": "37235f27",
   "metadata": {},
   "source": [
    "Here are a list of statistical functions built-in to NumPy:<br>\n",
    "- np.max(input array): returns the maximum value of the input array\n",
    "- np.min(input array): returns the minimum value of the input array \n",
    "- np.median(input array): returns the median value of the input array \n",
    "- np.mean(input array): returns the mean value of the input array\n",
    "- np.average(input array): returns the weighted average of the input array\n",
    "- np.std(input array): returns the standard deviation of the input array \n",
    "- np.var(input array): returns the variance of the input array \n",
    "- np.histogram(input): returns the histogram of the input array"
   ]
  },
  {
   "cell_type": "code",
   "execution_count": 61,
   "id": "f334c265",
   "metadata": {},
   "outputs": [
    {
     "data": {
      "text/plain": [
       "(11.955405557921848, -0.25525899859937023)"
      ]
     },
     "execution_count": 61,
     "metadata": {},
     "output_type": "execute_result"
    }
   ],
   "source": [
    "#Maximum and Minimum \n",
    "#Creating an Artificial Distribution \n",
    "dist_array = np.linspace(np.random.normal(0.01),np.random.normal(10))\n",
    "dist_array\n",
    "\n",
    "#Finding the Maximum and Minimum of the Distribution\n",
    "np.max(dist_array), np.min(dist_array)"
   ]
  },
  {
   "cell_type": "code",
   "execution_count": 62,
   "id": "e0828c9a",
   "metadata": {},
   "outputs": [
    {
     "data": {
      "text/plain": [
       "5.85007327966124"
      ]
     },
     "execution_count": 62,
     "metadata": {},
     "output_type": "execute_result"
    }
   ],
   "source": [
    "#Mean\n",
    "#Finding the mean of our distribution\n",
    "np.mean(dist_array)"
   ]
  },
  {
   "cell_type": "code",
   "execution_count": 63,
   "id": "adf1d70d",
   "metadata": {},
   "outputs": [
    {
     "data": {
      "text/plain": [
       "5.85007327966124"
      ]
     },
     "execution_count": 63,
     "metadata": {},
     "output_type": "execute_result"
    }
   ],
   "source": [
    "#Median\n",
    "#Finding the Median of our distribution\n",
    "np.median(dist_array)"
   ]
  },
  {
   "cell_type": "code",
   "execution_count": 64,
   "id": "9ecdad24",
   "metadata": {},
   "outputs": [
    {
     "data": {
      "text/plain": [
       "5.85007327966124"
      ]
     },
     "execution_count": 64,
     "metadata": {},
     "output_type": "execute_result"
    }
   ],
   "source": [
    "#Average\n",
    "#Finding the weighted average of our distribution\n",
    "np.average(dist_array)"
   ]
  },
  {
   "cell_type": "code",
   "execution_count": 65,
   "id": "b7f6ee13",
   "metadata": {},
   "outputs": [
    {
     "data": {
      "text/plain": [
       "3.596132837537344"
      ]
     },
     "execution_count": 65,
     "metadata": {},
     "output_type": "execute_result"
    }
   ],
   "source": [
    "#Standard Deviation\n",
    "#Finding the Standard DEviation of our Distribution\n",
    "np.std(dist_array)"
   ]
  },
  {
   "cell_type": "code",
   "execution_count": 66,
   "id": "46e84bc8",
   "metadata": {},
   "outputs": [
    {
     "data": {
      "text/plain": [
       "12.932171385214387"
      ]
     },
     "execution_count": 66,
     "metadata": {},
     "output_type": "execute_result"
    }
   ],
   "source": [
    "#Variance\n",
    "#Find the variance of our Distribution\n",
    "np.var(dist_array)"
   ]
  },
  {
   "cell_type": "markdown",
   "id": "cde7805a",
   "metadata": {},
   "source": [
    "The variance of a distribution is equivalent to the standard deviation squared."
   ]
  },
  {
   "cell_type": "code",
   "execution_count": 67,
   "id": "8eb6ea24",
   "metadata": {},
   "outputs": [
    {
     "data": {
      "text/plain": [
       "False"
      ]
     },
     "execution_count": 67,
     "metadata": {},
     "output_type": "execute_result"
    }
   ],
   "source": [
    "np.var(dist_array) == np.std(dist_array)**2"
   ]
  },
  {
   "cell_type": "code",
   "execution_count": 68,
   "id": "5cd7f6f9",
   "metadata": {},
   "outputs": [
    {
     "data": {
      "text/plain": [
       "(array([5, 5, 5, 5, 5, 5, 5, 5, 5, 5]),\n",
       " array([-0.255259  ,  0.96580746,  2.18687391,  3.40794037,  4.62900682,\n",
       "         5.85007328,  7.07113974,  8.29220619,  9.51327265, 10.7343391 ,\n",
       "        11.95540556]))"
      ]
     },
     "execution_count": 68,
     "metadata": {},
     "output_type": "execute_result"
    }
   ],
   "source": [
    "#Histogram\n",
    "#Finding the Histogram of our distribution\n",
    "occur, bin_edges = np.histogram(dist_array)\n",
    "occur, bin_edges #Returns the # of Occurences in the distribution & Bin Edges"
   ]
  },
  {
   "cell_type": "markdown",
   "id": "5e7774bd",
   "metadata": {},
   "source": [
    "## Built-in Numerical Constants "
   ]
  },
  {
   "cell_type": "markdown",
   "id": "90a07f65",
   "metadata": {},
   "source": [
    "There are several commonly-used numerical constants built into NumPy:<br>\n",
    "- Pi (π): np.pi\n",
    "- Euler's constant (_e_): np.e\n",
    "- Infinity (∞): np.inf or np.infty\n",
    "- Negative Infinity (-∞): -np.ninf or -np.infty\n",
    "- Not a Number (nan): np.nan "
   ]
  },
  {
   "cell_type": "code",
   "execution_count": 69,
   "id": "6b80d6d0",
   "metadata": {},
   "outputs": [
    {
     "data": {
      "text/plain": [
       "3.141592653589793"
      ]
     },
     "execution_count": 69,
     "metadata": {},
     "output_type": "execute_result"
    }
   ],
   "source": [
    "#Pi (π)\n",
    "np.pi"
   ]
  },
  {
   "cell_type": "code",
   "execution_count": 70,
   "id": "9b2ccde0",
   "metadata": {},
   "outputs": [
    {
     "data": {
      "text/plain": [
       "2.718281828459045"
      ]
     },
     "execution_count": 70,
     "metadata": {},
     "output_type": "execute_result"
    }
   ],
   "source": [
    "#Euler's constant (e)\n",
    "np.e"
   ]
  },
  {
   "cell_type": "code",
   "execution_count": 71,
   "id": "562cdd2a",
   "metadata": {},
   "outputs": [
    {
     "data": {
      "text/plain": [
       "(inf, inf)"
      ]
     },
     "execution_count": 71,
     "metadata": {},
     "output_type": "execute_result"
    }
   ],
   "source": [
    "#Infinity (∞)\n",
    "np.inf, np.infty #Either works "
   ]
  },
  {
   "cell_type": "code",
   "execution_count": 72,
   "id": "7cb9f74b",
   "metadata": {},
   "outputs": [
    {
     "data": {
      "text/plain": [
       "(-inf, -inf)"
      ]
     },
     "execution_count": 72,
     "metadata": {},
     "output_type": "execute_result"
    }
   ],
   "source": [
    "#Negative Infinity (-∞)\n",
    "-np.inf, -np.infty"
   ]
  },
  {
   "cell_type": "code",
   "execution_count": 73,
   "id": "4fa555de",
   "metadata": {},
   "outputs": [
    {
     "data": {
      "text/plain": [
       "nan"
      ]
     },
     "execution_count": 73,
     "metadata": {},
     "output_type": "execute_result"
    }
   ],
   "source": [
    "#Not a Number (nan)\n",
    "np.nan"
   ]
  },
  {
   "cell_type": "markdown",
   "id": "6669aecc",
   "metadata": {},
   "source": [
    "# Matplotlib"
   ]
  },
  {
   "attachments": {
    "matplotlibanatomy.webp": {
     "image/webp": "[encoded data removed]"
    }
   },
   "cell_type": "markdown",
   "id": "334d4968",
   "metadata": {},
   "source": [
    "Matplotlib is a fundamental visualization library in Python. Majority of plotting libraries are dependent on matplotlib. The basic anatomy of a plot is comprised of two main components: **the figure** (where the plot is placed) and **the axes** (the plot itself).\n",
    "![matplotlibanatomy.webp](attachment:matplotlibanatomy.webp)"
   ]
  },
  {
   "cell_type": "markdown",
   "id": "fd2bc756",
   "metadata": {},
   "source": [
    "**Figures** are the blank canvas of which plots/subplots are displayed on top of. **Subplots** displays multiple plots (axes) on a single figure window. The syntax to create a new figure window is the following:<br>\n",
    "<br>\n",
    "**plt.figure( )**<br>\n",
    "Note: within the parenthesis you can create a label for the figure window if you wish to put overlap plots on a single axes. "
   ]
  },
  {
   "cell_type": "markdown",
   "id": "fd2b43ec",
   "metadata": {},
   "source": [
    "There are numerous types of plots ranging from two-dimensional plots to three dimensional plots. The full list of plots can be found **[here](https://matplotlib.org/stable/plot_types/index.html)**."
   ]
  },
  {
   "cell_type": "markdown",
   "id": "90adbab4",
   "metadata": {},
   "source": [
    "Here, we will simply be performing a simple two-dimensional plot using the **plot** function.<br>\n",
    "<br>\n",
    "Syntax: **plt.plot(x-data,y-data)**"
   ]
  },
  {
   "cell_type": "code",
   "execution_count": 74,
   "id": "78a9d362",
   "metadata": {},
   "outputs": [
    {
     "data": {
      "text/plain": [
       "[<matplotlib.lines.Line2D at 0x7fa1a1e58130>]"
      ]
     },
     "execution_count": 74,
     "metadata": {},
     "output_type": "execute_result"
    },
    {
     "data": {
      "image/png": "[encoded data removed]",
      "text/plain": [
       "<Figure size 640x480 with 1 Axes>"
      ]
     },
     "metadata": {},
     "output_type": "display_data"
    }
   ],
   "source": [
    "#Plotting a Graph \n",
    "#Defining of x-data \n",
    "x = np.linspace(-np.pi,np.pi,20)\n",
    "\n",
    "#Calculating our y-data\n",
    "y = np.sin(x)\n",
    "\n",
    "#Creating a new figure window\n",
    "plt.figure()\n",
    "\n",
    "#Plotting our data \n",
    "plt.plot(x,y)\n"
   ]
  },
  {
   "cell_type": "markdown",
   "id": "a13ecb38",
   "metadata": {},
   "source": [
    "This is the fundamental elements of a figure. There are many customizations can be made to a figure such as adding a **title**, **x-axis and y-axis labels**, **changing the [marker](https://matplotlib.org/stable/api/markers_api.html)** at each point (the default is a solid line), **changing the [color](https://matplotlib.org/stable/gallery/color/named_colors.html)** of the markers, changing the axes tick makers/labels and their sizes, and much more. Let's replot our figure with the markers set as red stars, add some axes labels, and add a title."
   ]
  },
  {
   "cell_type": "code",
   "execution_count": 75,
   "id": "fcf1656e",
   "metadata": {},
   "outputs": [
    {
     "data": {
      "text/plain": [
       "Text(0.5, 1.0, 'Full Period of a Sine Wave')"
      ]
     },
     "execution_count": 75,
     "metadata": {},
     "output_type": "execute_result"
    },
    {
     "data": {
      "image/png": "[encoded data removed]",
      "text/plain": [
       "<Figure size 640x480 with 1 Axes>"
      ]
     },
     "metadata": {},
     "output_type": "display_data"
    }
   ],
   "source": [
    "#Creating a new figure \n",
    "plt.figure()\n",
    "\n",
    "#Replotting our data with markers\n",
    "plt.plot(x,y,'r*')\n",
    "\n",
    "#Adding axes labels \n",
    "plt.xlabel('x')\n",
    "plt.ylabel('sin(x)')\n",
    "\n",
    "#Adding a title\n",
    "plt.title('Full Period of a Sine Wave')"
   ]
  },
  {
   "cell_type": "markdown",
   "id": "6abf9b4b",
   "metadata": {},
   "source": [
    "We made our first plot! We can also overlap multiple plots on top of each other and add a legend to differentiate with them. Let's Update our previous plot with an additional data set for the cosine of x. You can add a label to each plot you make using the **label** attribute built within the **plot** function. <br>\n",
    "<br>\n",
    "Note: The input of labels must be in the string format. "
   ]
  },
  {
   "cell_type": "code",
   "execution_count": 76,
   "id": "1e2c998d",
   "metadata": {},
   "outputs": [
    {
     "data": {
      "text/plain": [
       "Text(0.5, 1.0, 'Sinusoidal Behavior from $-\\\\pi$ to $\\\\pi$')"
      ]
     },
     "execution_count": 76,
     "metadata": {},
     "output_type": "execute_result"
    },
    {
     "data": {
      "image/png": "[encoded data removed]",
      "text/plain": [
       "<Figure size 640x480 with 1 Axes>"
      ]
     },
     "metadata": {},
     "output_type": "display_data"
    }
   ],
   "source": [
    "#Calculating the cosine of x\n",
    "y2 = np.cos(x)\n",
    "\n",
    "#Creating a new figure \n",
    "plt.figure()\n",
    "\n",
    "#Replotting our data\n",
    "plt.plot(x,y,'r*',label=\"sin(x)\")\n",
    "plt.plot(x,y2,'bo',label=\"cos(x)\")\n",
    "\n",
    "#Adding axes labels \n",
    "plt.xlabel('x')\n",
    "plt.ylabel('y')\n",
    "\n",
    "#Adding a title\n",
    "plt.title(r'Sinusoidal Behavior from $-\\pi$ to $\\pi$')"
   ]
  },
  {
   "cell_type": "markdown",
   "id": "bbed8ca3",
   "metadata": {},
   "source": [
    "## Subplots "
   ]
  },
  {
   "cell_type": "markdown",
   "id": "6f8c383e",
   "metadata": {},
   "source": [
    "**Subplots** allow for multiple plots with their axes to be displayed in a single figure. This is useful for comparing different groups of data within a single figure. The function used to generate the subplots is the **plt.subplots** function. This function will return two outputs: the first is a **figure** and the second is a set of axes dependent on the input into the **subplots** function. <br>\n",
    "<br>\n",
    "Syntax: **figure_variable, axes_variable = plt.plot(# of rows, # of columns)** <br>\n",
    "or <br>\n",
    "        **figure_variable, (axis variables of # of total plots) = plt.plot(# of rows, # of columns)**"
   ]
  },
  {
   "cell_type": "markdown",
   "id": "09c3f8c5",
   "metadata": {},
   "source": [
    "All of the customizations of each plot in the subplots uses the similar syntax as the normal function:<br>\n",
    "<br>\n",
    "Syntax: **axes_variable.set_plotcomponent(input)**"
   ]
  },
  {
   "cell_type": "markdown",
   "id": "dae772c0",
   "metadata": {},
   "source": [
    "Let's create a figure of subplots with our previous calculated data x, y, and y2."
   ]
  },
  {
   "cell_type": "code",
   "execution_count": 77,
   "id": "d66dd27a",
   "metadata": {},
   "outputs": [
    {
     "data": {
      "text/plain": [
       "Text(0.5, 0.98, 'Sinusoidal Behavior from $-\\\\pi$ to $\\\\pi$')"
      ]
     },
     "execution_count": 77,
     "metadata": {},
     "output_type": "execute_result"
    },
    {
     "data": {
      "image/png": "[encoded data removed]",
      "text/plain": [
       "<Figure size 640x1000 with 2 Axes>"
      ]
     },
     "metadata": {},
     "output_type": "display_data"
    }
   ],
   "source": [
    "#Syntax 1\n",
    "#Creating the Subplots for two rows and one column\n",
    "#Only 1 variable for axes output\n",
    "fig, ax = plt.subplots(2,1)\n",
    "fig.set_figheight(10) #Increasing figure height\n",
    "\n",
    "#Plotting sin(x)\n",
    "ax[0].plot(x,y)\n",
    "ax[0].set_ylabel('y')\n",
    "ax[0].set_xlabel('x')\n",
    "ax[0].set_title('sin(x)')\n",
    "\n",
    "#Plotting cos(x)\n",
    "ax[1].plot(x,y2,color='tab:orange') #Setting second plot color to orange\n",
    "ax[1].set_ylabel('y')\n",
    "ax[1].set_xlabel('x')\n",
    "ax[1].set_title('cos(x)')\n",
    "plt.suptitle(r'Sinusoidal Behavior from $-\\pi$ to $\\pi$')"
   ]
  },
  {
   "cell_type": "code",
   "execution_count": 78,
   "id": "86c621d6",
   "metadata": {},
   "outputs": [
    {
     "data": {
      "text/plain": [
       "Text(0.5, 0.98, 'Sinusoidal Behavior from $-\\\\pi$ to $\\\\pi$')"
      ]
     },
     "execution_count": 78,
     "metadata": {},
     "output_type": "execute_result"
    },
    {
     "data": {
      "image/png": "[encoded data removed]",
      "text/plain": [
       "<Figure size 640x1000 with 2 Axes>"
      ]
     },
     "metadata": {},
     "output_type": "display_data"
    }
   ],
   "source": [
    "#Syntax 2\n",
    "#Creating the Subplots for two rows and one column\n",
    "#Creating a tuple of 2 variables for the 2 subplots \n",
    "fig, (ax1, ax2) = plt.subplots(2,1)\n",
    "fig.set_figheight(10) #Increasing figure height\n",
    "\n",
    "#Plotting sin(x)\n",
    "ax1.plot(x,y)\n",
    "ax1.set_ylabel('y')\n",
    "ax1.set_xlabel('x')\n",
    "ax1.set_title('sin(x)')\n",
    "\n",
    "#Plotting cos(x)\n",
    "ax2.plot(x,y2,color='tab:orange') #Setting second plot color to orange\n",
    "ax2.set_ylabel('y')\n",
    "ax2.set_xlabel('x')\n",
    "ax2.set_title('cos(x)')\n",
    "plt.suptitle(r'Sinusoidal Behavior from $-\\pi$ to $\\pi$')"
   ]
  },
  {
   "cell_type": "markdown",
   "id": "25b3c2bc",
   "metadata": {},
   "source": [
    "**Note: For the 2nd syntax method the # of axis variables = # of subplots**"
   ]
  },
  {
   "cell_type": "markdown",
   "id": "3d52da59",
   "metadata": {},
   "source": [
    "# Congratuations on completing Week 1!"
   ]
  }
 ],
 "metadata": {
  "kernelspec": {
   "display_name": "Python 3 (ipykernel)",
   "language": "python",
   "name": "python3"
  },
  "language_info": {
   "codemirror_mode": {
    "name": "ipython",
    "version": 3
   },
   "file_extension": ".py",
   "mimetype": "text/x-python",
   "name": "python",
   "nbconvert_exporter": "python",
   "pygments_lexer": "ipython3",
   "version": "3.10.9"
  }
 },
 "nbformat": 4,
 "nbformat_minor": 5
}
