{
 "cells": [
  {
   "cell_type": "markdown",
   "id": "4f01fef6",
   "metadata": {},
   "source": [
    "# Python 101 (Week 2)"
   ]
  },
  {
   "cell_type": "markdown",
   "id": "58c7cf50",
   "metadata": {},
   "source": [
    "As previous mentioned from last week, the first step of writing a Python script is to import the required libraries and packages. "
   ]
  },
  {
   "cell_type": "code",
   "execution_count": 1,
   "id": "20bec1f7",
   "metadata": {},
   "outputs": [],
   "source": [
    "import numpy as np\n",
    "import matplotlib.pyplot as plt\n",
    "import scipy as sp\n",
    "import pandas as pd"
   ]
  },
  {
   "cell_type": "markdown",
   "id": "c88c682a",
   "metadata": {},
   "source": [
    "# Pandas"
   ]
  },
  {
   "cell_type": "markdown",
   "id": "e342708f",
   "metadata": {},
   "source": [
    "## Series"
   ]
  },
  {
   "cell_type": "markdown",
   "id": "8ae1fac2",
   "metadata": {},
   "source": [
    "Pandas is an open-source library for data-analysis and manipiulation. This library introduces several new data types. The first is a one-dimensional ordered array known as a **Series**."
   ]
  },
  {
   "cell_type": "code",
   "execution_count": 2,
   "id": "60c484f4",
   "metadata": {},
   "outputs": [
    {
     "data": {
      "text/plain": [
       "0     1.0\n",
       "1     1.0\n",
       "2     2.0\n",
       "3     3.0\n",
       "4     5.0\n",
       "5     8.0\n",
       "6    13.0\n",
       "7    21.0\n",
       "8    34.0\n",
       "9    55.0\n",
       "dtype: float64"
      ]
     },
     "execution_count": 2,
     "metadata": {},
     "output_type": "execute_result"
    }
   ],
   "source": [
    "#Create a pandas Series and print it \n",
    "my_dataseries = pd.Series([1.0,1.0,2.0,3.0,5.0,8.0,13.0,21.0,34.0,55.0])\n",
    "my_dataseries"
   ]
  },
  {
   "cell_type": "code",
   "execution_count": 3,
   "id": "d6e3c02e",
   "metadata": {},
   "outputs": [
    {
     "data": {
      "text/plain": [
       "pandas.core.series.Series"
      ]
     },
     "execution_count": 3,
     "metadata": {},
     "output_type": "execute_result"
    }
   ],
   "source": [
    "#Use Type Function on our Series \n",
    "type(my_dataseries)"
   ]
  },
  {
   "cell_type": "markdown",
   "id": "c194e5dc",
   "metadata": {},
   "source": [
    "## Data Frames (df)"
   ]
  },
  {
   "attachments": {},
   "cell_type": "markdown",
   "id": "e530b31b",
   "metadata": {},
   "source": [
    "The second data type we'll look at today is the **DataFrame**. DataFrames are a two-dimensional data object that is comprised of rows and columns. <br>\n",
    "![01_table_dataframe](https://pandas.pydata.org/docs/_images/01_table_dataframe.svg) "
   ]
  },
  {
   "cell_type": "markdown",
   "id": "69038ba2",
   "metadata": {},
   "source": [
    "DataFrames only take either a dictionary or another DataFrame as an input. Let's create a DataFrame!"
   ]
  },
  {
   "cell_type": "code",
   "execution_count": 4,
   "id": "2bb07067",
   "metadata": {},
   "outputs": [
    {
     "data": {
      "text/html": [
       "<div>\n",
       "<style scoped>\n",
       "    .dataframe tbody tr th:only-of-type {\n",
       "        vertical-align: middle;\n",
       "    }\n",
       "\n",
       "    .dataframe tbody tr th {\n",
       "        vertical-align: top;\n",
       "    }\n",
       "\n",
       "    .dataframe thead th {\n",
       "        text-align: right;\n",
       "    }\n",
       "</style>\n",
       "<table border=\"1\" class=\"dataframe\">\n",
       "  <thead>\n",
       "    <tr style=\"text-align: right;\">\n",
       "      <th></th>\n",
       "      <th>Squared-Whole Numbers</th>\n",
       "      <th>Fibonacci Sequence</th>\n",
       "      <th>Reciprocals of Whole Numbers</th>\n",
       "    </tr>\n",
       "  </thead>\n",
       "  <tbody>\n",
       "    <tr>\n",
       "      <th>0</th>\n",
       "      <td>0.0</td>\n",
       "      <td>1.0</td>\n",
       "      <td>1.000000</td>\n",
       "    </tr>\n",
       "    <tr>\n",
       "      <th>1</th>\n",
       "      <td>1.0</td>\n",
       "      <td>1.0</td>\n",
       "      <td>0.500000</td>\n",
       "    </tr>\n",
       "    <tr>\n",
       "      <th>2</th>\n",
       "      <td>4.0</td>\n",
       "      <td>2.0</td>\n",
       "      <td>0.333333</td>\n",
       "    </tr>\n",
       "    <tr>\n",
       "      <th>3</th>\n",
       "      <td>9.0</td>\n",
       "      <td>3.0</td>\n",
       "      <td>0.250000</td>\n",
       "    </tr>\n",
       "  </tbody>\n",
       "</table>\n",
       "</div>"
      ],
      "text/plain": [
       "   Squared-Whole Numbers  Fibonacci Sequence  Reciprocals of Whole Numbers\n",
       "0                    0.0                 1.0                      1.000000\n",
       "1                    1.0                 1.0                      0.500000\n",
       "2                    4.0                 2.0                      0.333333\n",
       "3                    9.0                 3.0                      0.250000"
      ]
     },
     "execution_count": 4,
     "metadata": {},
     "output_type": "execute_result"
    }
   ],
   "source": [
    "#Create a Dictionary\n",
    "df_dict = {\"Squared-Whole Numbers\":np.array([0.0,1.0,4.0,9.0]),\"Fibonacci Sequence\":my_dataseries[0:4],\n",
    "           \"Reciprocals of Whole Numbers\":np.array([1/1,1/2,1/3,1/4])}\n",
    "#Create the DataFrame from the Dictionary \n",
    "my_DataFrame = pd.DataFrame(df_dict)\n",
    "#Printing the DataFrame\n",
    "my_DataFrame"
   ]
  },
  {
   "cell_type": "code",
   "execution_count": 5,
   "id": "4e08ebcb",
   "metadata": {},
   "outputs": [
    {
     "data": {
      "text/plain": [
       "pandas.core.frame.DataFrame"
      ]
     },
     "execution_count": 5,
     "metadata": {},
     "output_type": "execute_result"
    }
   ],
   "source": [
    "#Use types Function on our DataFrame\n",
    "type(my_DataFrame)"
   ]
  },
  {
   "cell_type": "markdown",
   "id": "c68d87bb",
   "metadata": {},
   "source": [
    "There are several built-in functions into **DataFrames** to get information about the DataFrame. You can see the full list of built in function by simply adding and **\".\"** after the variable your DataFrame is named after. Listed is a few of the built-in functions that return information about the DataFrame (df):<br>\n",
    "\n",
    "1. **df.size** : Returns the number of elements in the DataFrame (df)\n",
    "2. **df.shape** : Returns the shape (i.e. # of rows, # of columns) in DataFrame (df)\n",
    "3. **df.memory_usage( )**: Returns the allocated memory the DataFrame is storing by column\n",
    "4. **df.columns** : Returns the labels of each column in the DataFrame\n",
    "5. **df.index** : Returns the labels of each row in the DataFrame\n",
    "6. **df.axes** : returns the labels of both axes \n"
   ]
  },
  {
   "cell_type": "code",
   "execution_count": 6,
   "id": "502b5422",
   "metadata": {},
   "outputs": [
    {
     "name": "stdout",
     "output_type": "stream",
     "text": [
      "12\n",
      "(4, 3)\n",
      "Index                           128\n",
      "Squared-Whole Numbers            32\n",
      "Fibonacci Sequence               32\n",
      "Reciprocals of Whole Numbers     32\n",
      "dtype: int64\n",
      "Index(['Squared-Whole Numbers', 'Fibonacci Sequence',\n",
      "       'Reciprocals of Whole Numbers'],\n",
      "      dtype='object')\n",
      "RangeIndex(start=0, stop=4, step=1)\n",
      "[RangeIndex(start=0, stop=4, step=1), Index(['Squared-Whole Numbers', 'Fibonacci Sequence',\n",
      "       'Reciprocals of Whole Numbers'],\n",
      "      dtype='object')]\n"
     ]
    }
   ],
   "source": [
    "#Testing out the functions above \n",
    "\n",
    "#Size of df \n",
    "print(my_DataFrame.size)\n",
    "\n",
    "#Shape of df\n",
    "print(my_DataFrame.shape)\n",
    "\n",
    "#Memory Usage of df\n",
    "print(my_DataFrame.memory_usage())\n",
    "\n",
    "#Columns of df \n",
    "print(my_DataFrame.columns)\n",
    "\n",
    "#Rows of df\n",
    "print(my_DataFrame.index)\n",
    "\n",
    "#All labels of df \n",
    "print(my_DataFrame.axes)"
   ]
  },
  {
   "cell_type": "markdown",
   "id": "fc98f91f",
   "metadata": {},
   "source": [
    "You can also check if a DataFrame is empty with the **df.empty** function. This is handy when importing data sets into DataFrames from files."
   ]
  },
  {
   "cell_type": "code",
   "execution_count": 7,
   "id": "4f902c8d",
   "metadata": {},
   "outputs": [
    {
     "data": {
      "text/plain": [
       "False"
      ]
     },
     "execution_count": 7,
     "metadata": {},
     "output_type": "execute_result"
    }
   ],
   "source": [
    "#Test if our DataFrame is empty \n",
    "my_DataFrame.empty "
   ]
  },
  {
   "cell_type": "markdown",
   "id": "c14da74b",
   "metadata": {},
   "source": [
    "You can also give the rows of a DataFrame labels as well. This can be done initially when the DataFrame is being made or after with the **index** function mentioned previously. "
   ]
  },
  {
   "cell_type": "code",
   "execution_count": 8,
   "id": "3b86fa18",
   "metadata": {},
   "outputs": [
    {
     "data": {
      "text/html": [
       "<div>\n",
       "<style scoped>\n",
       "    .dataframe tbody tr th:only-of-type {\n",
       "        vertical-align: middle;\n",
       "    }\n",
       "\n",
       "    .dataframe tbody tr th {\n",
       "        vertical-align: top;\n",
       "    }\n",
       "\n",
       "    .dataframe thead th {\n",
       "        text-align: right;\n",
       "    }\n",
       "</style>\n",
       "<table border=\"1\" class=\"dataframe\">\n",
       "  <thead>\n",
       "    <tr style=\"text-align: right;\">\n",
       "      <th></th>\n",
       "      <th>Number of Sides</th>\n",
       "      <th>Angles (º)</th>\n",
       "    </tr>\n",
       "  </thead>\n",
       "  <tbody>\n",
       "    <tr>\n",
       "      <th>Circle</th>\n",
       "      <td>0</td>\n",
       "      <td>360</td>\n",
       "    </tr>\n",
       "    <tr>\n",
       "      <th>Triangle</th>\n",
       "      <td>3</td>\n",
       "      <td>180</td>\n",
       "    </tr>\n",
       "    <tr>\n",
       "      <th>Rectangle</th>\n",
       "      <td>4</td>\n",
       "      <td>360</td>\n",
       "    </tr>\n",
       "    <tr>\n",
       "      <th>Pentagon</th>\n",
       "      <td>5</td>\n",
       "      <td>540</td>\n",
       "    </tr>\n",
       "    <tr>\n",
       "      <th>Octogon</th>\n",
       "      <td>8</td>\n",
       "      <td>1080</td>\n",
       "    </tr>\n",
       "  </tbody>\n",
       "</table>\n",
       "</div>"
      ],
      "text/plain": [
       "           Number of Sides  Angles (º)\n",
       "Circle                   0         360\n",
       "Triangle                 3         180\n",
       "Rectangle                4         360\n",
       "Pentagon                 5         540\n",
       "Octogon                  8        1080"
      ]
     },
     "execution_count": 8,
     "metadata": {},
     "output_type": "execute_result"
    }
   ],
   "source": [
    "#Create a new DataFrame with row labels\n",
    "#New Dictionary\n",
    "my_dict2 = {\"Number of Sides\": [0,3,4,5,8],\"Angles (º)\":[360,180,360,540,1080]}\n",
    "\n",
    "#Creating new df with Row Labels (index labels)\n",
    "df2 = pd.DataFrame(my_dict2,index=[\"Circle\",\"Triangle\",\"Rectangle\",\"Pentagon\",\"Octogon\"])\n",
    "\n",
    "#Printing new DataFrame\n",
    "df2"
   ]
  },
  {
   "cell_type": "markdown",
   "id": "757e51e5",
   "metadata": {},
   "source": [
    "### Mathematics with DataFrames & Series"
   ]
  },
  {
   "cell_type": "markdown",
   "id": "1ed48149",
   "metadata": {},
   "source": [
    "Returning to our original DataFrame we created basic mathematic operations can be performed on DataFrames as well."
   ]
  },
  {
   "cell_type": "code",
   "execution_count": 9,
   "id": "3df8bc77",
   "metadata": {},
   "outputs": [
    {
     "data": {
      "text/html": [
       "<div>\n",
       "<style scoped>\n",
       "    .dataframe tbody tr th:only-of-type {\n",
       "        vertical-align: middle;\n",
       "    }\n",
       "\n",
       "    .dataframe tbody tr th {\n",
       "        vertical-align: top;\n",
       "    }\n",
       "\n",
       "    .dataframe thead th {\n",
       "        text-align: right;\n",
       "    }\n",
       "</style>\n",
       "<table border=\"1\" class=\"dataframe\">\n",
       "  <thead>\n",
       "    <tr style=\"text-align: right;\">\n",
       "      <th></th>\n",
       "      <th>Squared-Whole Numbers</th>\n",
       "      <th>Fibonacci Sequence</th>\n",
       "      <th>Reciprocals of Whole Numbers</th>\n",
       "    </tr>\n",
       "  </thead>\n",
       "  <tbody>\n",
       "    <tr>\n",
       "      <th>0</th>\n",
       "      <td>10.0</td>\n",
       "      <td>11.0</td>\n",
       "      <td>11.000000</td>\n",
       "    </tr>\n",
       "    <tr>\n",
       "      <th>1</th>\n",
       "      <td>11.0</td>\n",
       "      <td>11.0</td>\n",
       "      <td>10.500000</td>\n",
       "    </tr>\n",
       "    <tr>\n",
       "      <th>2</th>\n",
       "      <td>14.0</td>\n",
       "      <td>12.0</td>\n",
       "      <td>10.333333</td>\n",
       "    </tr>\n",
       "    <tr>\n",
       "      <th>3</th>\n",
       "      <td>19.0</td>\n",
       "      <td>13.0</td>\n",
       "      <td>10.250000</td>\n",
       "    </tr>\n",
       "  </tbody>\n",
       "</table>\n",
       "</div>"
      ],
      "text/plain": [
       "   Squared-Whole Numbers  Fibonacci Sequence  Reciprocals of Whole Numbers\n",
       "0                   10.0                11.0                     11.000000\n",
       "1                   11.0                11.0                     10.500000\n",
       "2                   14.0                12.0                     10.333333\n",
       "3                   19.0                13.0                     10.250000"
      ]
     },
     "execution_count": 9,
     "metadata": {},
     "output_type": "execute_result"
    }
   ],
   "source": [
    "#Addition\n",
    "my_DataFrame+10"
   ]
  },
  {
   "cell_type": "code",
   "execution_count": 10,
   "id": "3fc9ca26",
   "metadata": {},
   "outputs": [
    {
     "data": {
      "text/html": [
       "<div>\n",
       "<style scoped>\n",
       "    .dataframe tbody tr th:only-of-type {\n",
       "        vertical-align: middle;\n",
       "    }\n",
       "\n",
       "    .dataframe tbody tr th {\n",
       "        vertical-align: top;\n",
       "    }\n",
       "\n",
       "    .dataframe thead th {\n",
       "        text-align: right;\n",
       "    }\n",
       "</style>\n",
       "<table border=\"1\" class=\"dataframe\">\n",
       "  <thead>\n",
       "    <tr style=\"text-align: right;\">\n",
       "      <th></th>\n",
       "      <th>Squared-Whole Numbers</th>\n",
       "      <th>Fibonacci Sequence</th>\n",
       "      <th>Reciprocals of Whole Numbers</th>\n",
       "    </tr>\n",
       "  </thead>\n",
       "  <tbody>\n",
       "    <tr>\n",
       "      <th>0</th>\n",
       "      <td>-10.0</td>\n",
       "      <td>-9.0</td>\n",
       "      <td>-9.000000</td>\n",
       "    </tr>\n",
       "    <tr>\n",
       "      <th>1</th>\n",
       "      <td>-9.0</td>\n",
       "      <td>-9.0</td>\n",
       "      <td>-9.500000</td>\n",
       "    </tr>\n",
       "    <tr>\n",
       "      <th>2</th>\n",
       "      <td>-6.0</td>\n",
       "      <td>-8.0</td>\n",
       "      <td>-9.666667</td>\n",
       "    </tr>\n",
       "    <tr>\n",
       "      <th>3</th>\n",
       "      <td>-1.0</td>\n",
       "      <td>-7.0</td>\n",
       "      <td>-9.750000</td>\n",
       "    </tr>\n",
       "  </tbody>\n",
       "</table>\n",
       "</div>"
      ],
      "text/plain": [
       "   Squared-Whole Numbers  Fibonacci Sequence  Reciprocals of Whole Numbers\n",
       "0                  -10.0                -9.0                     -9.000000\n",
       "1                   -9.0                -9.0                     -9.500000\n",
       "2                   -6.0                -8.0                     -9.666667\n",
       "3                   -1.0                -7.0                     -9.750000"
      ]
     },
     "execution_count": 10,
     "metadata": {},
     "output_type": "execute_result"
    }
   ],
   "source": [
    "#Subtraction\n",
    "my_DataFrame-10"
   ]
  },
  {
   "cell_type": "code",
   "execution_count": 11,
   "id": "682108a9",
   "metadata": {},
   "outputs": [
    {
     "data": {
      "text/html": [
       "<div>\n",
       "<style scoped>\n",
       "    .dataframe tbody tr th:only-of-type {\n",
       "        vertical-align: middle;\n",
       "    }\n",
       "\n",
       "    .dataframe tbody tr th {\n",
       "        vertical-align: top;\n",
       "    }\n",
       "\n",
       "    .dataframe thead th {\n",
       "        text-align: right;\n",
       "    }\n",
       "</style>\n",
       "<table border=\"1\" class=\"dataframe\">\n",
       "  <thead>\n",
       "    <tr style=\"text-align: right;\">\n",
       "      <th></th>\n",
       "      <th>Squared-Whole Numbers</th>\n",
       "      <th>Fibonacci Sequence</th>\n",
       "      <th>Reciprocals of Whole Numbers</th>\n",
       "    </tr>\n",
       "  </thead>\n",
       "  <tbody>\n",
       "    <tr>\n",
       "      <th>0</th>\n",
       "      <td>0.0</td>\n",
       "      <td>10.0</td>\n",
       "      <td>10.000000</td>\n",
       "    </tr>\n",
       "    <tr>\n",
       "      <th>1</th>\n",
       "      <td>10.0</td>\n",
       "      <td>10.0</td>\n",
       "      <td>5.000000</td>\n",
       "    </tr>\n",
       "    <tr>\n",
       "      <th>2</th>\n",
       "      <td>40.0</td>\n",
       "      <td>20.0</td>\n",
       "      <td>3.333333</td>\n",
       "    </tr>\n",
       "    <tr>\n",
       "      <th>3</th>\n",
       "      <td>90.0</td>\n",
       "      <td>30.0</td>\n",
       "      <td>2.500000</td>\n",
       "    </tr>\n",
       "  </tbody>\n",
       "</table>\n",
       "</div>"
      ],
      "text/plain": [
       "   Squared-Whole Numbers  Fibonacci Sequence  Reciprocals of Whole Numbers\n",
       "0                    0.0                10.0                     10.000000\n",
       "1                   10.0                10.0                      5.000000\n",
       "2                   40.0                20.0                      3.333333\n",
       "3                   90.0                30.0                      2.500000"
      ]
     },
     "execution_count": 11,
     "metadata": {},
     "output_type": "execute_result"
    }
   ],
   "source": [
    "#Multiplication\n",
    "my_DataFrame*10"
   ]
  },
  {
   "cell_type": "code",
   "execution_count": 12,
   "id": "32bfac8a",
   "metadata": {},
   "outputs": [
    {
     "data": {
      "text/html": [
       "<div>\n",
       "<style scoped>\n",
       "    .dataframe tbody tr th:only-of-type {\n",
       "        vertical-align: middle;\n",
       "    }\n",
       "\n",
       "    .dataframe tbody tr th {\n",
       "        vertical-align: top;\n",
       "    }\n",
       "\n",
       "    .dataframe thead th {\n",
       "        text-align: right;\n",
       "    }\n",
       "</style>\n",
       "<table border=\"1\" class=\"dataframe\">\n",
       "  <thead>\n",
       "    <tr style=\"text-align: right;\">\n",
       "      <th></th>\n",
       "      <th>Squared-Whole Numbers</th>\n",
       "      <th>Fibonacci Sequence</th>\n",
       "      <th>Reciprocals of Whole Numbers</th>\n",
       "    </tr>\n",
       "  </thead>\n",
       "  <tbody>\n",
       "    <tr>\n",
       "      <th>0</th>\n",
       "      <td>0.0</td>\n",
       "      <td>0.1</td>\n",
       "      <td>0.100000</td>\n",
       "    </tr>\n",
       "    <tr>\n",
       "      <th>1</th>\n",
       "      <td>0.1</td>\n",
       "      <td>0.1</td>\n",
       "      <td>0.050000</td>\n",
       "    </tr>\n",
       "    <tr>\n",
       "      <th>2</th>\n",
       "      <td>0.4</td>\n",
       "      <td>0.2</td>\n",
       "      <td>0.033333</td>\n",
       "    </tr>\n",
       "    <tr>\n",
       "      <th>3</th>\n",
       "      <td>0.9</td>\n",
       "      <td>0.3</td>\n",
       "      <td>0.025000</td>\n",
       "    </tr>\n",
       "  </tbody>\n",
       "</table>\n",
       "</div>"
      ],
      "text/plain": [
       "   Squared-Whole Numbers  Fibonacci Sequence  Reciprocals of Whole Numbers\n",
       "0                    0.0                 0.1                      0.100000\n",
       "1                    0.1                 0.1                      0.050000\n",
       "2                    0.4                 0.2                      0.033333\n",
       "3                    0.9                 0.3                      0.025000"
      ]
     },
     "execution_count": 12,
     "metadata": {},
     "output_type": "execute_result"
    }
   ],
   "source": [
    "#Division\n",
    "my_DataFrame/10"
   ]
  },
  {
   "cell_type": "code",
   "execution_count": 13,
   "id": "8f53e8b2",
   "metadata": {},
   "outputs": [
    {
     "data": {
      "text/html": [
       "<div>\n",
       "<style scoped>\n",
       "    .dataframe tbody tr th:only-of-type {\n",
       "        vertical-align: middle;\n",
       "    }\n",
       "\n",
       "    .dataframe tbody tr th {\n",
       "        vertical-align: top;\n",
       "    }\n",
       "\n",
       "    .dataframe thead th {\n",
       "        text-align: right;\n",
       "    }\n",
       "</style>\n",
       "<table border=\"1\" class=\"dataframe\">\n",
       "  <thead>\n",
       "    <tr style=\"text-align: right;\">\n",
       "      <th></th>\n",
       "      <th>Squared-Whole Numbers</th>\n",
       "      <th>Fibonacci Sequence</th>\n",
       "      <th>Reciprocals of Whole Numbers</th>\n",
       "    </tr>\n",
       "  </thead>\n",
       "  <tbody>\n",
       "    <tr>\n",
       "      <th>0</th>\n",
       "      <td>0.000000e+00</td>\n",
       "      <td>1.0</td>\n",
       "      <td>1.000000e+00</td>\n",
       "    </tr>\n",
       "    <tr>\n",
       "      <th>1</th>\n",
       "      <td>1.000000e+00</td>\n",
       "      <td>1.0</td>\n",
       "      <td>9.765625e-04</td>\n",
       "    </tr>\n",
       "    <tr>\n",
       "      <th>2</th>\n",
       "      <td>1.048576e+06</td>\n",
       "      <td>1024.0</td>\n",
       "      <td>1.693509e-05</td>\n",
       "    </tr>\n",
       "    <tr>\n",
       "      <th>3</th>\n",
       "      <td>3.486784e+09</td>\n",
       "      <td>59049.0</td>\n",
       "      <td>9.536743e-07</td>\n",
       "    </tr>\n",
       "  </tbody>\n",
       "</table>\n",
       "</div>"
      ],
      "text/plain": [
       "   Squared-Whole Numbers  Fibonacci Sequence  Reciprocals of Whole Numbers\n",
       "0           0.000000e+00                 1.0                  1.000000e+00\n",
       "1           1.000000e+00                 1.0                  9.765625e-04\n",
       "2           1.048576e+06              1024.0                  1.693509e-05\n",
       "3           3.486784e+09             59049.0                  9.536743e-07"
      ]
     },
     "execution_count": 13,
     "metadata": {},
     "output_type": "execute_result"
    }
   ],
   "source": [
    "#Powered Exponent\n",
    "my_DataFrame**10"
   ]
  },
  {
   "cell_type": "markdown",
   "id": "3a5f8754",
   "metadata": {},
   "source": [
    "Other mathematical and statistical functions are also built-in to DataFrames (as seen with NumPy last week).\n",
    "\n",
    "- **df.round(# of decimal places)**: rounds df to number of decimal places input \n",
    "- **df.abs( )**: returns the absolute value of all elements in the df \n",
    "- **df.max( )**: returns maximum value of all elements along each column (or defined axis) in df \n",
    "- **df.min( )**: returns minimum value of all elements along each column (or defined axis) in df \n",
    "- **df.sum(axis)**: returns the sum of all elements along each column (or defined axis) in df \n",
    "- **df.mean( ):** returns the mean of all elements along each column (or defined axis) in df \n",
    "- **df.median( )**: returns the median of all elements along each column (or defined axis) in df \n",
    "- **df.mode(  )**: returns the mode of all elements along each column (or defined axis) in df \n",
    "- **df.std( )**: returns the standard deivation of all elements along each column (or defined axis) in df \n",
    "- **df.var( )**: returns the variance of all elements along each column (or defined axis) in df \n",
    "- **df.quantile(q)**: returns the value at the q-percentile along each column (or defined axis) in df \n",
    "- **df.hist( )**: returns the histograms plotted of every column in the df"
   ]
  },
  {
   "cell_type": "code",
   "execution_count": 14,
   "id": "e0b73c31",
   "metadata": {},
   "outputs": [
    {
     "name": "stdout",
     "output_type": "stream",
     "text": [
      "Rounding my DataFrame\n",
      "   Squared-Whole Numbers  Fibonacci Sequence  Reciprocals of Whole Numbers\n",
      "0                    0.0                 1.0                           1.0\n",
      "1                    1.0                 1.0                           0.0\n",
      "2                    4.0                 2.0                           0.0\n",
      "3                    9.0                 3.0                           0.0\n",
      "Taking the Absolute Value of my DataFrame\n",
      "   Squared-Whole Numbers  Fibonacci Sequence  Reciprocals of Whole Numbers\n",
      "0                    0.0                 1.0                      1.000000\n",
      "1                    1.0                 1.0                      0.500000\n",
      "2                    4.0                 2.0                      0.333333\n",
      "3                    9.0                 3.0                      0.250000\n",
      "\n",
      "Finding the Maximum Value in my DataFrame\n",
      "Squared-Whole Numbers           9.0\n",
      "Fibonacci Sequence              3.0\n",
      "Reciprocals of Whole Numbers    1.0\n",
      "dtype: float64\n",
      "\n",
      "Finding the Minimum Value in my DataFrame\n",
      "Squared-Whole Numbers           0.00\n",
      "Fibonacci Sequence              1.00\n",
      "Reciprocals of Whole Numbers    0.25\n",
      "dtype: float64\n",
      "\n",
      "Taking the Sum of my DataFrame along the columns\n",
      "Squared-Whole Numbers           14.000000\n",
      "Fibonacci Sequence               7.000000\n",
      "Reciprocals of Whole Numbers     2.083333\n",
      "dtype: float64\n"
     ]
    }
   ],
   "source": [
    "#Mathematic Functions\n",
    "#Round\n",
    "print(\"Rounding my DataFrame\")\n",
    "print(my_DataFrame.round(0))\n",
    "\n",
    "#Absolute Value \n",
    "print(\"Taking the Absolute Value of my DataFrame\")\n",
    "print(my_DataFrame.abs())\n",
    "\n",
    "#Maximum Value\n",
    "print(\"\\n\"+\"Finding the Maximum Value in my DataFrame\")\n",
    "print(my_DataFrame.max())\n",
    "\n",
    "#Minimum Value\n",
    "print(\"\\n\"+'Finding the Minimum Value in my DataFrame')\n",
    "print(my_DataFrame.min())\n",
    "\n",
    "#Sum\n",
    "print(\"\\n\"+'Taking the Sum of my DataFrame along the columns')\n",
    "print(my_DataFrame.sum())"
   ]
  },
  {
   "cell_type": "code",
   "execution_count": 15,
   "id": "fda53fa9",
   "metadata": {},
   "outputs": [
    {
     "name": "stdout",
     "output_type": "stream",
     "text": [
      "\n",
      "Finding the Mean of my DataFrame along the columns\n",
      "Squared-Whole Numbers           3.500000\n",
      "Fibonacci Sequence              1.750000\n",
      "Reciprocals of Whole Numbers    0.520833\n",
      "dtype: float64\n",
      "\n",
      "Finding the Median of my DataFrame along the columns\n",
      "Squared-Whole Numbers           2.500000\n",
      "Fibonacci Sequence              1.500000\n",
      "Reciprocals of Whole Numbers    0.416667\n",
      "dtype: float64\n",
      "\n",
      "Finding the Mode of my DataFrame along the columns\n",
      "   Squared-Whole Numbers  Fibonacci Sequence  Reciprocals of Whole Numbers\n",
      "0                    0.0                 1.0                      0.250000\n",
      "1                    1.0                 NaN                      0.333333\n",
      "2                    4.0                 NaN                      0.500000\n",
      "3                    9.0                 NaN                      1.000000\n",
      "\n",
      "Finding the Standard Deviation of my DataFrame along the columns\n",
      "Squared-Whole Numbers           4.041452\n",
      "Fibonacci Sequence              0.957427\n",
      "Reciprocals of Whole Numbers    0.335927\n",
      "dtype: float64\n",
      "\n",
      "Finding the Variance of my DataFrame along the columns\n",
      "Squared-Whole Numbers           16.333333\n",
      "Fibonacci Sequence               0.916667\n",
      "Reciprocals of Whole Numbers     0.112847\n",
      "dtype: float64\n",
      "\n",
      "Quantile the Variance of my DataFrame along the columns\n",
      "Squared-Whole Numbers           2.500000\n",
      "Fibonacci Sequence              1.500000\n",
      "Reciprocals of Whole Numbers    0.416667\n",
      "Name: 0.5, dtype: float64\n",
      "\n",
      "Histogram the Variance of my DataFrame along the columns\n",
      "[[<Axes: title={'center': 'Squared-Whole Numbers'}>\n",
      "  <Axes: title={'center': 'Fibonacci Sequence'}>]\n",
      " [<Axes: title={'center': 'Reciprocals of Whole Numbers'}> <Axes: >]]\n"
     ]
    },
    {
     "data": {
      "image/png": "[encoded data removed]",
      "text/plain": [
       "<Figure size 640x480 with 4 Axes>"
      ]
     },
     "metadata": {},
     "output_type": "display_data"
    }
   ],
   "source": [
    "#Statistical Functions\n",
    "#Mean\n",
    "print(\"\\n\"+'Finding the Mean of my DataFrame along the columns')\n",
    "print(my_DataFrame.mean())\n",
    "\n",
    "#Median\n",
    "print(\"\\n\"+'Finding the Median of my DataFrame along the columns')\n",
    "print(my_DataFrame.median())\n",
    "\n",
    "#Mode\n",
    "print(\"\\n\"+'Finding the Mode of my DataFrame along the columns')\n",
    "print(my_DataFrame.mode())\n",
    "\n",
    "#Standard Deviation\n",
    "print(\"\\n\"+'Finding the Standard Deviation of my DataFrame along the columns')\n",
    "print(my_DataFrame.std())\n",
    "\n",
    "#Variance\n",
    "print(\"\\n\"+'Finding the Variance of my DataFrame along the columns')\n",
    "print(my_DataFrame.var())\n",
    "\n",
    "#Quartile\n",
    "print(\"\\n\"+'Quantile the Variance of my DataFrame along the columns')\n",
    "print(my_DataFrame.quantile(0.5)) #input must be between 0 and 1\n",
    "\n",
    "#Histogram\n",
    "print(\"\\n\"+'Histogram the Variance of my DataFrame along the columns')\n",
    "print(my_DataFrame.hist())"
   ]
  },
  {
   "cell_type": "markdown",
   "id": "12b15247",
   "metadata": {},
   "source": [
    "You can also apply NumPy mathematical functions to your DataFrame using the **transform** function."
   ]
  },
  {
   "cell_type": "code",
   "execution_count": 16,
   "id": "672ce840",
   "metadata": {},
   "outputs": [
    {
     "data": {
      "text/html": [
       "<div>\n",
       "<style scoped>\n",
       "    .dataframe tbody tr th:only-of-type {\n",
       "        vertical-align: middle;\n",
       "    }\n",
       "\n",
       "    .dataframe tbody tr th {\n",
       "        vertical-align: top;\n",
       "    }\n",
       "\n",
       "    .dataframe thead th {\n",
       "        text-align: right;\n",
       "    }\n",
       "</style>\n",
       "<table border=\"1\" class=\"dataframe\">\n",
       "  <thead>\n",
       "    <tr style=\"text-align: right;\">\n",
       "      <th></th>\n",
       "      <th>Squared-Whole Numbers</th>\n",
       "      <th>Fibonacci Sequence</th>\n",
       "      <th>Reciprocals of Whole Numbers</th>\n",
       "    </tr>\n",
       "  </thead>\n",
       "  <tbody>\n",
       "    <tr>\n",
       "      <th>0</th>\n",
       "      <td>1.000000</td>\n",
       "      <td>2.718282</td>\n",
       "      <td>2.718282</td>\n",
       "    </tr>\n",
       "    <tr>\n",
       "      <th>1</th>\n",
       "      <td>2.718282</td>\n",
       "      <td>2.718282</td>\n",
       "      <td>1.648721</td>\n",
       "    </tr>\n",
       "    <tr>\n",
       "      <th>2</th>\n",
       "      <td>54.598150</td>\n",
       "      <td>7.389056</td>\n",
       "      <td>1.395612</td>\n",
       "    </tr>\n",
       "    <tr>\n",
       "      <th>3</th>\n",
       "      <td>8103.083928</td>\n",
       "      <td>20.085537</td>\n",
       "      <td>1.284025</td>\n",
       "    </tr>\n",
       "  </tbody>\n",
       "</table>\n",
       "</div>"
      ],
      "text/plain": [
       "   Squared-Whole Numbers  Fibonacci Sequence  Reciprocals of Whole Numbers\n",
       "0               1.000000            2.718282                      2.718282\n",
       "1               2.718282            2.718282                      1.648721\n",
       "2              54.598150            7.389056                      1.395612\n",
       "3            8103.083928           20.085537                      1.284025"
      ]
     },
     "execution_count": 16,
     "metadata": {},
     "output_type": "execute_result"
    }
   ],
   "source": [
    "#Use the transform function to perform a NumPy math function on the DataFrame\n",
    "my_DataFrame.transform(np.exp) #Takes the DataFrame as the power to e"
   ]
  },
  {
   "cell_type": "markdown",
   "id": "187b0fc6",
   "metadata": {},
   "source": [
    "### Indexing"
   ]
  },
  {
   "cell_type": "markdown",
   "id": "a5757444",
   "metadata": {},
   "source": [
    "Similarly to lists, numpy arrays, dictionaries, etc., pandas' DataFrames and Series can also be indexed as well. For Series, it behaves exactly the same as a list or array, calling the position of the element will give the element."
   ]
  },
  {
   "cell_type": "code",
   "execution_count": 17,
   "id": "4a3b6621",
   "metadata": {},
   "outputs": [
    {
     "data": {
      "text/plain": [
       "34.0"
      ]
     },
     "execution_count": 17,
     "metadata": {},
     "output_type": "execute_result"
    }
   ],
   "source": [
    "#Indexing my Data Series\n",
    "my_dataseries[8]"
   ]
  },
  {
   "cell_type": "markdown",
   "id": "748ead3f",
   "metadata": {},
   "source": [
    "For a DataFrame, you can index a column in a DataFrame by putting the label of the column in square-brackets beside the variable containing the DataFrame."
   ]
  },
  {
   "cell_type": "code",
   "execution_count": 18,
   "id": "2e5abb2c",
   "metadata": {},
   "outputs": [
    {
     "data": {
      "text/plain": [
       "0    1.0\n",
       "1    1.0\n",
       "2    2.0\n",
       "3    3.0\n",
       "Name: Fibonacci Sequence, dtype: float64"
      ]
     },
     "execution_count": 18,
     "metadata": {},
     "output_type": "execute_result"
    }
   ],
   "source": [
    "#Indexing a DataFrame by column \n",
    "my_DataFrame[\"Fibonacci Sequence\"]"
   ]
  },
  {
   "cell_type": "markdown",
   "id": "f6b97658",
   "metadata": {},
   "source": [
    "There are also several functions built-into to DataFrames from Pandas that let you index for specific rows, columns, and/or elements. The first function we will go over is the **at** function. This function allows you to call a single element, row of elements, or column of elements."
   ]
  },
  {
   "cell_type": "code",
   "execution_count": 19,
   "id": "6b87e469",
   "metadata": {},
   "outputs": [
    {
     "data": {
      "text/plain": [
       "5"
      ]
     },
     "execution_count": 19,
     "metadata": {},
     "output_type": "execute_result"
    }
   ],
   "source": [
    "#Use the at function\n",
    "df2.at[\"Pentagon\",\"Number of Sides\"]"
   ]
  },
  {
   "cell_type": "markdown",
   "id": "28ba5632",
   "metadata": {},
   "source": [
    "The **loc** function works similarly as the **at** function, but the **loc** function let you access a group of rows and columns by labels."
   ]
  },
  {
   "cell_type": "code",
   "execution_count": 20,
   "id": "0ef86d29",
   "metadata": {},
   "outputs": [
    {
     "data": {
      "text/plain": [
       "Circle       0\n",
       "Triangle     3\n",
       "Rectangle    4\n",
       "Name: Number of Sides, dtype: int64"
      ]
     },
     "execution_count": 20,
     "metadata": {},
     "output_type": "execute_result"
    }
   ],
   "source": [
    "#Use the loc function\n",
    "df2.loc['Circle':'Rectangle','Number of Sides']"
   ]
  },
  {
   "cell_type": "markdown",
   "id": "1bf5b86b",
   "metadata": {},
   "source": [
    "There are integer index versions of the previously mentioned functions: **iat** and **iloc**, where instead of labels you use positional integer placement to call an element, row of elements, or column of elements."
   ]
  },
  {
   "cell_type": "code",
   "execution_count": 21,
   "id": "5561f820",
   "metadata": {},
   "outputs": [
    {
     "data": {
      "text/plain": [
       "(1080, 360)"
      ]
     },
     "execution_count": 21,
     "metadata": {},
     "output_type": "execute_result"
    }
   ],
   "source": [
    "df2.iat[4,1], df2.iloc[0,1]"
   ]
  },
  {
   "cell_type": "markdown",
   "id": "0555717c",
   "metadata": {},
   "source": [
    "Logical Operators can also be used on DataFrames. Pandas has a built-in function **where**, which will return a DataFrame full of **nans**  where the condition is **False** and the original values where the condition is **True**."
   ]
  },
  {
   "cell_type": "code",
   "execution_count": 22,
   "id": "ad28e482",
   "metadata": {},
   "outputs": [
    {
     "data": {
      "text/html": [
       "<div>\n",
       "<style scoped>\n",
       "    .dataframe tbody tr th:only-of-type {\n",
       "        vertical-align: middle;\n",
       "    }\n",
       "\n",
       "    .dataframe tbody tr th {\n",
       "        vertical-align: top;\n",
       "    }\n",
       "\n",
       "    .dataframe thead th {\n",
       "        text-align: right;\n",
       "    }\n",
       "</style>\n",
       "<table border=\"1\" class=\"dataframe\">\n",
       "  <thead>\n",
       "    <tr style=\"text-align: right;\">\n",
       "      <th></th>\n",
       "      <th>Squared-Whole Numbers</th>\n",
       "      <th>Fibonacci Sequence</th>\n",
       "      <th>Reciprocals of Whole Numbers</th>\n",
       "    </tr>\n",
       "  </thead>\n",
       "  <tbody>\n",
       "    <tr>\n",
       "      <th>0</th>\n",
       "      <td>NaN</td>\n",
       "      <td>1.0</td>\n",
       "      <td>1.0</td>\n",
       "    </tr>\n",
       "    <tr>\n",
       "      <th>1</th>\n",
       "      <td>1.0</td>\n",
       "      <td>1.0</td>\n",
       "      <td>NaN</td>\n",
       "    </tr>\n",
       "    <tr>\n",
       "      <th>2</th>\n",
       "      <td>4.0</td>\n",
       "      <td>2.0</td>\n",
       "      <td>NaN</td>\n",
       "    </tr>\n",
       "    <tr>\n",
       "      <th>3</th>\n",
       "      <td>9.0</td>\n",
       "      <td>3.0</td>\n",
       "      <td>NaN</td>\n",
       "    </tr>\n",
       "  </tbody>\n",
       "</table>\n",
       "</div>"
      ],
      "text/plain": [
       "   Squared-Whole Numbers  Fibonacci Sequence  Reciprocals of Whole Numbers\n",
       "0                    NaN                 1.0                           1.0\n",
       "1                    1.0                 1.0                           NaN\n",
       "2                    4.0                 2.0                           NaN\n",
       "3                    9.0                 3.0                           NaN"
      ]
     },
     "execution_count": 22,
     "metadata": {},
     "output_type": "execute_result"
    }
   ],
   "source": [
    "#Let's try the where function\n",
    "my_DataFrame.where(my_DataFrame>=1)"
   ]
  },
  {
   "cell_type": "markdown",
   "id": "78f881e7",
   "metadata": {},
   "source": [
    "A similar function is the **mask** function. This function will return a DataFrame full of **nans** where the condition is **True** and the original values where the condition is **False**."
   ]
  },
  {
   "cell_type": "code",
   "execution_count": 23,
   "id": "a8cefdf0",
   "metadata": {},
   "outputs": [
    {
     "data": {
      "text/html": [
       "<div>\n",
       "<style scoped>\n",
       "    .dataframe tbody tr th:only-of-type {\n",
       "        vertical-align: middle;\n",
       "    }\n",
       "\n",
       "    .dataframe tbody tr th {\n",
       "        vertical-align: top;\n",
       "    }\n",
       "\n",
       "    .dataframe thead th {\n",
       "        text-align: right;\n",
       "    }\n",
       "</style>\n",
       "<table border=\"1\" class=\"dataframe\">\n",
       "  <thead>\n",
       "    <tr style=\"text-align: right;\">\n",
       "      <th></th>\n",
       "      <th>Squared-Whole Numbers</th>\n",
       "      <th>Fibonacci Sequence</th>\n",
       "      <th>Reciprocals of Whole Numbers</th>\n",
       "    </tr>\n",
       "  </thead>\n",
       "  <tbody>\n",
       "    <tr>\n",
       "      <th>0</th>\n",
       "      <td>NaN</td>\n",
       "      <td>NaN</td>\n",
       "      <td>NaN</td>\n",
       "    </tr>\n",
       "    <tr>\n",
       "      <th>1</th>\n",
       "      <td>NaN</td>\n",
       "      <td>NaN</td>\n",
       "      <td>NaN</td>\n",
       "    </tr>\n",
       "    <tr>\n",
       "      <th>2</th>\n",
       "      <td>4.0</td>\n",
       "      <td>NaN</td>\n",
       "      <td>NaN</td>\n",
       "    </tr>\n",
       "    <tr>\n",
       "      <th>3</th>\n",
       "      <td>9.0</td>\n",
       "      <td>3.0</td>\n",
       "      <td>NaN</td>\n",
       "    </tr>\n",
       "  </tbody>\n",
       "</table>\n",
       "</div>"
      ],
      "text/plain": [
       "   Squared-Whole Numbers  Fibonacci Sequence  Reciprocals of Whole Numbers\n",
       "0                    NaN                 NaN                           NaN\n",
       "1                    NaN                 NaN                           NaN\n",
       "2                    4.0                 NaN                           NaN\n",
       "3                    9.0                 3.0                           NaN"
      ]
     },
     "execution_count": 23,
     "metadata": {},
     "output_type": "execute_result"
    }
   ],
   "source": [
    "#Try the mask function\n",
    "my_DataFrame.mask(2>=my_DataFrame)"
   ]
  },
  {
   "cell_type": "markdown",
   "id": "979cc0cd",
   "metadata": {},
   "source": [
    "### Appending a DataFrame"
   ]
  },
  {
   "cell_type": "markdown",
   "id": "6b6b0c0f",
   "metadata": {},
   "source": [
    "There only two axes to append in a DataFrame: either adding a row or adding a column. There is one function for each. To add an additional column the **insert** function.<br>\n",
    "<br>\n",
    "Syntax: **df.insert(# column position, column label, [data])**"
   ]
  },
  {
   "cell_type": "code",
   "execution_count": 24,
   "id": "27b407c0",
   "metadata": {},
   "outputs": [
    {
     "data": {
      "text/html": [
       "<div>\n",
       "<style scoped>\n",
       "    .dataframe tbody tr th:only-of-type {\n",
       "        vertical-align: middle;\n",
       "    }\n",
       "\n",
       "    .dataframe tbody tr th {\n",
       "        vertical-align: top;\n",
       "    }\n",
       "\n",
       "    .dataframe thead th {\n",
       "        text-align: right;\n",
       "    }\n",
       "</style>\n",
       "<table border=\"1\" class=\"dataframe\">\n",
       "  <thead>\n",
       "    <tr style=\"text-align: right;\">\n",
       "      <th></th>\n",
       "      <th>Squared-Whole Numbers</th>\n",
       "      <th>Fibonacci Sequence</th>\n",
       "      <th>Reciprocals of Whole Numbers</th>\n",
       "      <th>Cubes of Whole Numbers</th>\n",
       "    </tr>\n",
       "  </thead>\n",
       "  <tbody>\n",
       "    <tr>\n",
       "      <th>0</th>\n",
       "      <td>0.0</td>\n",
       "      <td>1.0</td>\n",
       "      <td>1.000000</td>\n",
       "      <td>0</td>\n",
       "    </tr>\n",
       "    <tr>\n",
       "      <th>1</th>\n",
       "      <td>1.0</td>\n",
       "      <td>1.0</td>\n",
       "      <td>0.500000</td>\n",
       "      <td>1</td>\n",
       "    </tr>\n",
       "    <tr>\n",
       "      <th>2</th>\n",
       "      <td>4.0</td>\n",
       "      <td>2.0</td>\n",
       "      <td>0.333333</td>\n",
       "      <td>8</td>\n",
       "    </tr>\n",
       "    <tr>\n",
       "      <th>3</th>\n",
       "      <td>9.0</td>\n",
       "      <td>3.0</td>\n",
       "      <td>0.250000</td>\n",
       "      <td>27</td>\n",
       "    </tr>\n",
       "  </tbody>\n",
       "</table>\n",
       "</div>"
      ],
      "text/plain": [
       "   Squared-Whole Numbers  Fibonacci Sequence  Reciprocals of Whole Numbers  \\\n",
       "0                    0.0                 1.0                      1.000000   \n",
       "1                    1.0                 1.0                      0.500000   \n",
       "2                    4.0                 2.0                      0.333333   \n",
       "3                    9.0                 3.0                      0.250000   \n",
       "\n",
       "   Cubes of Whole Numbers  \n",
       "0                       0  \n",
       "1                       1  \n",
       "2                       8  \n",
       "3                      27  "
      ]
     },
     "execution_count": 24,
     "metadata": {},
     "output_type": "execute_result"
    }
   ],
   "source": [
    "#Inserting a column to a Data Frame\n",
    "my_DataFrame.insert(3,\"Cubes of Whole Numbers\",[0,1,8,27])\n",
    "my_DataFrame"
   ]
  },
  {
   "cell_type": "markdown",
   "id": "24cbd542",
   "metadata": {},
   "source": [
    "To add an additional row to a DataFrame use the **index.insert** function:<br>\n",
    "<br>\n",
    "Syntax: **df._append(DataFrame/Dict,ignore_index)**"
   ]
  },
  {
   "cell_type": "code",
   "execution_count": 25,
   "id": "aa0c9fdb",
   "metadata": {},
   "outputs": [
    {
     "data": {
      "text/html": [
       "<div>\n",
       "<style scoped>\n",
       "    .dataframe tbody tr th:only-of-type {\n",
       "        vertical-align: middle;\n",
       "    }\n",
       "\n",
       "    .dataframe tbody tr th {\n",
       "        vertical-align: top;\n",
       "    }\n",
       "\n",
       "    .dataframe thead th {\n",
       "        text-align: right;\n",
       "    }\n",
       "</style>\n",
       "<table border=\"1\" class=\"dataframe\">\n",
       "  <thead>\n",
       "    <tr style=\"text-align: right;\">\n",
       "      <th></th>\n",
       "      <th>Squared-Whole Numbers</th>\n",
       "      <th>Fibonacci Sequence</th>\n",
       "      <th>Reciprocals of Whole Numbers</th>\n",
       "      <th>Cubes of Whole Numbers</th>\n",
       "    </tr>\n",
       "  </thead>\n",
       "  <tbody>\n",
       "    <tr>\n",
       "      <th>0</th>\n",
       "      <td>0.0</td>\n",
       "      <td>1.0</td>\n",
       "      <td>1.000000</td>\n",
       "      <td>0.0</td>\n",
       "    </tr>\n",
       "    <tr>\n",
       "      <th>1</th>\n",
       "      <td>1.0</td>\n",
       "      <td>1.0</td>\n",
       "      <td>0.500000</td>\n",
       "      <td>1.0</td>\n",
       "    </tr>\n",
       "    <tr>\n",
       "      <th>2</th>\n",
       "      <td>4.0</td>\n",
       "      <td>2.0</td>\n",
       "      <td>0.333333</td>\n",
       "      <td>8.0</td>\n",
       "    </tr>\n",
       "    <tr>\n",
       "      <th>3</th>\n",
       "      <td>9.0</td>\n",
       "      <td>3.0</td>\n",
       "      <td>0.250000</td>\n",
       "      <td>27.0</td>\n",
       "    </tr>\n",
       "    <tr>\n",
       "      <th>4</th>\n",
       "      <td>16.0</td>\n",
       "      <td>5.0</td>\n",
       "      <td>0.200000</td>\n",
       "      <td>64.0</td>\n",
       "    </tr>\n",
       "  </tbody>\n",
       "</table>\n",
       "</div>"
      ],
      "text/plain": [
       "   Squared-Whole Numbers  Fibonacci Sequence  Reciprocals of Whole Numbers  \\\n",
       "0                    0.0                 1.0                      1.000000   \n",
       "1                    1.0                 1.0                      0.500000   \n",
       "2                    4.0                 2.0                      0.333333   \n",
       "3                    9.0                 3.0                      0.250000   \n",
       "4                   16.0                 5.0                      0.200000   \n",
       "\n",
       "   Cubes of Whole Numbers  \n",
       "0                     0.0  \n",
       "1                     1.0  \n",
       "2                     8.0  \n",
       "3                    27.0  \n",
       "4                    64.0  "
      ]
     },
     "execution_count": 25,
     "metadata": {},
     "output_type": "execute_result"
    }
   ],
   "source": [
    "my_DataFrame=my_DataFrame._append({'Squared-Whole Numbers':16.0,'Fibonacci Sequence':5.0,\n",
    "                                   \"Reciprocals of Whole Numbers\":1/5, \"Cubes of Whole Numbers\":64.0},\n",
    "                                  ignore_index=True)\n",
    "my_DataFrame"
   ]
  },
  {
   "cell_type": "markdown",
   "id": "654940fd",
   "metadata": {},
   "source": [
    "### Exporting DataFrames to Other Data Types/ File Types "
   ]
  },
  {
   "cell_type": "markdown",
   "id": "0bedd389",
   "metadata": {},
   "source": [
    "Pandas makes it very easy to export DataFrames and Series into other different data types and even file types. Some data types to note are: the NumPy array, xarray, dictionaries, and strings. Let's convert our DataFrame to some of these file types. "
   ]
  },
  {
   "cell_type": "code",
   "execution_count": 26,
   "id": "e735dde4",
   "metadata": {},
   "outputs": [
    {
     "data": {
      "text/plain": [
       "array([[ 0.        ,  1.        ,  1.        ,  0.        ],\n",
       "       [ 1.        ,  1.        ,  0.5       ,  1.        ],\n",
       "       [ 4.        ,  2.        ,  0.33333333,  8.        ],\n",
       "       [ 9.        ,  3.        ,  0.25      , 27.        ],\n",
       "       [16.        ,  5.        ,  0.2       , 64.        ]])"
      ]
     },
     "execution_count": 26,
     "metadata": {},
     "output_type": "execute_result"
    }
   ],
   "source": [
    "#Converting our DataFrame to a NumPy Array\n",
    "my_DataFrame.to_numpy()"
   ]
  },
  {
   "cell_type": "code",
   "execution_count": 27,
   "id": "6a9c85e6",
   "metadata": {},
   "outputs": [
    {
     "data": {
      "text/plain": [
       "{'Squared-Whole Numbers': {0: 0.0, 1: 1.0, 2: 4.0, 3: 9.0, 4: 16.0},\n",
       " 'Fibonacci Sequence': {0: 1.0, 1: 1.0, 2: 2.0, 3: 3.0, 4: 5.0},\n",
       " 'Reciprocals of Whole Numbers': {0: 1.0,\n",
       "  1: 0.5,\n",
       "  2: 0.3333333333333333,\n",
       "  3: 0.25,\n",
       "  4: 0.2},\n",
       " 'Cubes of Whole Numbers': {0: 0.0, 1: 1.0, 2: 8.0, 3: 27.0, 4: 64.0}}"
      ]
     },
     "execution_count": 27,
     "metadata": {},
     "output_type": "execute_result"
    }
   ],
   "source": [
    "#Convert to Dictionary\n",
    "my_DataFrame.to_dict()"
   ]
  },
  {
   "cell_type": "code",
   "execution_count": 28,
   "id": "23eb52c3",
   "metadata": {},
   "outputs": [
    {
     "data": {
      "text/plain": [
       "'   Squared-Whole Numbers  Fibonacci Sequence  Reciprocals of Whole Numbers  Cubes of Whole Numbers\\n0                    0.0                 1.0                      1.000000                     0.0\\n1                    1.0                 1.0                      0.500000                     1.0\\n2                    4.0                 2.0                      0.333333                     8.0\\n3                    9.0                 3.0                      0.250000                    27.0\\n4                   16.0                 5.0                      0.200000                    64.0'"
      ]
     },
     "execution_count": 28,
     "metadata": {},
     "output_type": "execute_result"
    }
   ],
   "source": [
    "#Convert to String\n",
    "my_DataFrame.to_string()"
   ]
  },
  {
   "cell_type": "markdown",
   "id": "6b50d93f",
   "metadata": {},
   "source": [
    "Pandas can export DataFrames to various different file types as well. Some file types of note are excel, csv files, text files, hdf files, and even latex. Let's try saving our DataFrame as a csv file! <br>\n",
    "<br>\n",
    "Syntax: **df.to_filetype(\"path/filename\",sep=\"delimiter type\")**"
   ]
  },
  {
   "cell_type": "code",
   "execution_count": 29,
   "id": "ce13a6cf",
   "metadata": {},
   "outputs": [],
   "source": [
    "df2.to_csv(\"Shapes\",sep=\",\")"
   ]
  },
  {
   "cell_type": "markdown",
   "id": "2d7fac36",
   "metadata": {},
   "source": [
    "### Importing a file into a DataFrame"
   ]
  },
  {
   "cell_type": "markdown",
   "id": "fbc1675f",
   "metadata": {},
   "source": [
    "Sometimes, you have data files that you may want to open in python and perform analysis on. Pandas has several functions to read various different file types into DataFrames such as exel files, csv files, txt files, and HDF just to name as few. Let's try opening a data file containing local [meterological data around metro Atlanta](https://gtvault-my.sharepoint.com/:x:/g/personal/dgrau7_gatech_edu/EV6cCqKLJdhOuuR9JH98qEsBRSs482lTsCUZt09cELQ0Gw?e=QCTW9w). This is a csv file with the delimiter as a comma **( , )**.<br>\n",
    "<br>\n",
    "Syntax: **pd.read_file_type(\"file_path/file_name.file_extension\",sep=\"delimiter\")**"
   ]
  },
  {
   "cell_type": "code",
   "execution_count": 30,
   "id": "158bd4e1",
   "metadata": {},
   "outputs": [
    {
     "data": {
      "text/html": [
       "<div>\n",
       "<style scoped>\n",
       "    .dataframe tbody tr th:only-of-type {\n",
       "        vertical-align: middle;\n",
       "    }\n",
       "\n",
       "    .dataframe tbody tr th {\n",
       "        vertical-align: top;\n",
       "    }\n",
       "\n",
       "    .dataframe thead th {\n",
       "        text-align: right;\n",
       "    }\n",
       "</style>\n",
       "<table border=\"1\" class=\"dataframe\">\n",
       "  <thead>\n",
       "    <tr style=\"text-align: right;\">\n",
       "      <th></th>\n",
       "      <th>STATION</th>\n",
       "      <th>NAME</th>\n",
       "      <th>DATE</th>\n",
       "      <th>AWND</th>\n",
       "      <th>PGTM</th>\n",
       "      <th>PRCP</th>\n",
       "      <th>SNOW</th>\n",
       "      <th>SNWD</th>\n",
       "      <th>TAVG</th>\n",
       "      <th>TMAX</th>\n",
       "      <th>TMIN</th>\n",
       "      <th>WDF2</th>\n",
       "      <th>WDF5</th>\n",
       "      <th>WSF2</th>\n",
       "      <th>WSF5</th>\n",
       "      <th>WT01</th>\n",
       "      <th>WT02</th>\n",
       "      <th>WT03</th>\n",
       "      <th>WT08</th>\n",
       "    </tr>\n",
       "  </thead>\n",
       "  <tbody>\n",
       "    <tr>\n",
       "      <th>0</th>\n",
       "      <td>USW00013874</td>\n",
       "      <td>ATLANTA HARTSFIELD JACKSON INTERNATIONAL AIRPO...</td>\n",
       "      <td>2024-01-01</td>\n",
       "      <td>10.96</td>\n",
       "      <td>NaN</td>\n",
       "      <td>0.00</td>\n",
       "      <td>0.0</td>\n",
       "      <td>0.0</td>\n",
       "      <td>45</td>\n",
       "      <td>50.0</td>\n",
       "      <td>34.0</td>\n",
       "      <td>310.0</td>\n",
       "      <td>320.0</td>\n",
       "      <td>23.0</td>\n",
       "      <td>30.0</td>\n",
       "      <td>NaN</td>\n",
       "      <td>NaN</td>\n",
       "      <td>NaN</td>\n",
       "      <td>NaN</td>\n",
       "    </tr>\n",
       "    <tr>\n",
       "      <th>1</th>\n",
       "      <td>USW00013874</td>\n",
       "      <td>ATLANTA HARTSFIELD JACKSON INTERNATIONAL AIRPO...</td>\n",
       "      <td>2024-01-02</td>\n",
       "      <td>6.04</td>\n",
       "      <td>NaN</td>\n",
       "      <td>0.00</td>\n",
       "      <td>0.0</td>\n",
       "      <td>0.0</td>\n",
       "      <td>39</td>\n",
       "      <td>54.0</td>\n",
       "      <td>30.0</td>\n",
       "      <td>280.0</td>\n",
       "      <td>320.0</td>\n",
       "      <td>13.0</td>\n",
       "      <td>17.0</td>\n",
       "      <td>NaN</td>\n",
       "      <td>NaN</td>\n",
       "      <td>NaN</td>\n",
       "      <td>NaN</td>\n",
       "    </tr>\n",
       "    <tr>\n",
       "      <th>2</th>\n",
       "      <td>USW00013874</td>\n",
       "      <td>ATLANTA HARTSFIELD JACKSON INTERNATIONAL AIRPO...</td>\n",
       "      <td>2024-01-03</td>\n",
       "      <td>5.14</td>\n",
       "      <td>NaN</td>\n",
       "      <td>0.03</td>\n",
       "      <td>0.0</td>\n",
       "      <td>0.0</td>\n",
       "      <td>39</td>\n",
       "      <td>47.0</td>\n",
       "      <td>31.0</td>\n",
       "      <td>290.0</td>\n",
       "      <td>310.0</td>\n",
       "      <td>8.9</td>\n",
       "      <td>12.1</td>\n",
       "      <td>NaN</td>\n",
       "      <td>NaN</td>\n",
       "      <td>NaN</td>\n",
       "      <td>NaN</td>\n",
       "    </tr>\n",
       "    <tr>\n",
       "      <th>3</th>\n",
       "      <td>USW00013874</td>\n",
       "      <td>ATLANTA HARTSFIELD JACKSON INTERNATIONAL AIRPO...</td>\n",
       "      <td>2024-01-04</td>\n",
       "      <td>9.62</td>\n",
       "      <td>NaN</td>\n",
       "      <td>0.00</td>\n",
       "      <td>0.0</td>\n",
       "      <td>0.0</td>\n",
       "      <td>41</td>\n",
       "      <td>53.0</td>\n",
       "      <td>34.0</td>\n",
       "      <td>320.0</td>\n",
       "      <td>320.0</td>\n",
       "      <td>17.0</td>\n",
       "      <td>23.0</td>\n",
       "      <td>NaN</td>\n",
       "      <td>NaN</td>\n",
       "      <td>NaN</td>\n",
       "      <td>NaN</td>\n",
       "    </tr>\n",
       "    <tr>\n",
       "      <th>4</th>\n",
       "      <td>USW00013874</td>\n",
       "      <td>ATLANTA HARTSFIELD JACKSON INTERNATIONAL AIRPO...</td>\n",
       "      <td>2024-01-05</td>\n",
       "      <td>11.18</td>\n",
       "      <td>NaN</td>\n",
       "      <td>0.17</td>\n",
       "      <td>0.0</td>\n",
       "      <td>0.0</td>\n",
       "      <td>40</td>\n",
       "      <td>53.0</td>\n",
       "      <td>32.0</td>\n",
       "      <td>90.0</td>\n",
       "      <td>80.0</td>\n",
       "      <td>18.1</td>\n",
       "      <td>25.9</td>\n",
       "      <td>1.0</td>\n",
       "      <td>NaN</td>\n",
       "      <td>NaN</td>\n",
       "      <td>NaN</td>\n",
       "    </tr>\n",
       "    <tr>\n",
       "      <th>...</th>\n",
       "      <td>...</td>\n",
       "      <td>...</td>\n",
       "      <td>...</td>\n",
       "      <td>...</td>\n",
       "      <td>...</td>\n",
       "      <td>...</td>\n",
       "      <td>...</td>\n",
       "      <td>...</td>\n",
       "      <td>...</td>\n",
       "      <td>...</td>\n",
       "      <td>...</td>\n",
       "      <td>...</td>\n",
       "      <td>...</td>\n",
       "      <td>...</td>\n",
       "      <td>...</td>\n",
       "      <td>...</td>\n",
       "      <td>...</td>\n",
       "      <td>...</td>\n",
       "      <td>...</td>\n",
       "    </tr>\n",
       "    <tr>\n",
       "      <th>140</th>\n",
       "      <td>USW00013874</td>\n",
       "      <td>ATLANTA HARTSFIELD JACKSON INTERNATIONAL AIRPO...</td>\n",
       "      <td>2024-05-20</td>\n",
       "      <td>6.04</td>\n",
       "      <td>NaN</td>\n",
       "      <td>0.00</td>\n",
       "      <td>0.0</td>\n",
       "      <td>NaN</td>\n",
       "      <td>74</td>\n",
       "      <td>85.0</td>\n",
       "      <td>64.0</td>\n",
       "      <td>90.0</td>\n",
       "      <td>80.0</td>\n",
       "      <td>13.0</td>\n",
       "      <td>21.9</td>\n",
       "      <td>NaN</td>\n",
       "      <td>NaN</td>\n",
       "      <td>NaN</td>\n",
       "      <td>NaN</td>\n",
       "    </tr>\n",
       "    <tr>\n",
       "      <th>141</th>\n",
       "      <td>USW00013874</td>\n",
       "      <td>ATLANTA HARTSFIELD JACKSON INTERNATIONAL AIRPO...</td>\n",
       "      <td>2024-05-21</td>\n",
       "      <td>4.92</td>\n",
       "      <td>NaN</td>\n",
       "      <td>0.00</td>\n",
       "      <td>0.0</td>\n",
       "      <td>NaN</td>\n",
       "      <td>77</td>\n",
       "      <td>86.0</td>\n",
       "      <td>67.0</td>\n",
       "      <td>140.0</td>\n",
       "      <td>150.0</td>\n",
       "      <td>12.1</td>\n",
       "      <td>16.1</td>\n",
       "      <td>NaN</td>\n",
       "      <td>NaN</td>\n",
       "      <td>NaN</td>\n",
       "      <td>1.0</td>\n",
       "    </tr>\n",
       "    <tr>\n",
       "      <th>142</th>\n",
       "      <td>USW00013874</td>\n",
       "      <td>ATLANTA HARTSFIELD JACKSON INTERNATIONAL AIRPO...</td>\n",
       "      <td>2024-05-22</td>\n",
       "      <td>5.37</td>\n",
       "      <td>1437.0</td>\n",
       "      <td>0.00</td>\n",
       "      <td>0.0</td>\n",
       "      <td>NaN</td>\n",
       "      <td>77</td>\n",
       "      <td>87.0</td>\n",
       "      <td>67.0</td>\n",
       "      <td>160.0</td>\n",
       "      <td>220.0</td>\n",
       "      <td>15.0</td>\n",
       "      <td>21.0</td>\n",
       "      <td>NaN</td>\n",
       "      <td>NaN</td>\n",
       "      <td>NaN</td>\n",
       "      <td>1.0</td>\n",
       "    </tr>\n",
       "    <tr>\n",
       "      <th>143</th>\n",
       "      <td>USW00013874</td>\n",
       "      <td>ATLANTA HARTSFIELD JACKSON INTERNATIONAL AIRPO...</td>\n",
       "      <td>2024-05-23</td>\n",
       "      <td>6.04</td>\n",
       "      <td>1703.0</td>\n",
       "      <td>0.00</td>\n",
       "      <td>0.0</td>\n",
       "      <td>NaN</td>\n",
       "      <td>78</td>\n",
       "      <td>88.0</td>\n",
       "      <td>70.0</td>\n",
       "      <td>220.0</td>\n",
       "      <td>210.0</td>\n",
       "      <td>16.1</td>\n",
       "      <td>21.0</td>\n",
       "      <td>NaN</td>\n",
       "      <td>NaN</td>\n",
       "      <td>NaN</td>\n",
       "      <td>1.0</td>\n",
       "    </tr>\n",
       "    <tr>\n",
       "      <th>144</th>\n",
       "      <td>USW00013874</td>\n",
       "      <td>ATLANTA HARTSFIELD JACKSON INTERNATIONAL AIRPO...</td>\n",
       "      <td>2024-05-24</td>\n",
       "      <td>NaN</td>\n",
       "      <td>NaN</td>\n",
       "      <td>NaN</td>\n",
       "      <td>NaN</td>\n",
       "      <td>NaN</td>\n",
       "      <td>77</td>\n",
       "      <td>NaN</td>\n",
       "      <td>NaN</td>\n",
       "      <td>NaN</td>\n",
       "      <td>NaN</td>\n",
       "      <td>NaN</td>\n",
       "      <td>NaN</td>\n",
       "      <td>NaN</td>\n",
       "      <td>NaN</td>\n",
       "      <td>NaN</td>\n",
       "      <td>NaN</td>\n",
       "    </tr>\n",
       "  </tbody>\n",
       "</table>\n",
       "<p>145 rows × 19 columns</p>\n",
       "</div>"
      ],
      "text/plain": [
       "         STATION                                               NAME  \\\n",
       "0    USW00013874  ATLANTA HARTSFIELD JACKSON INTERNATIONAL AIRPO...   \n",
       "1    USW00013874  ATLANTA HARTSFIELD JACKSON INTERNATIONAL AIRPO...   \n",
       "2    USW00013874  ATLANTA HARTSFIELD JACKSON INTERNATIONAL AIRPO...   \n",
       "3    USW00013874  ATLANTA HARTSFIELD JACKSON INTERNATIONAL AIRPO...   \n",
       "4    USW00013874  ATLANTA HARTSFIELD JACKSON INTERNATIONAL AIRPO...   \n",
       "..           ...                                                ...   \n",
       "140  USW00013874  ATLANTA HARTSFIELD JACKSON INTERNATIONAL AIRPO...   \n",
       "141  USW00013874  ATLANTA HARTSFIELD JACKSON INTERNATIONAL AIRPO...   \n",
       "142  USW00013874  ATLANTA HARTSFIELD JACKSON INTERNATIONAL AIRPO...   \n",
       "143  USW00013874  ATLANTA HARTSFIELD JACKSON INTERNATIONAL AIRPO...   \n",
       "144  USW00013874  ATLANTA HARTSFIELD JACKSON INTERNATIONAL AIRPO...   \n",
       "\n",
       "           DATE   AWND    PGTM  PRCP  SNOW  SNWD  TAVG  TMAX  TMIN   WDF2  \\\n",
       "0    2024-01-01  10.96     NaN  0.00   0.0   0.0    45  50.0  34.0  310.0   \n",
       "1    2024-01-02   6.04     NaN  0.00   0.0   0.0    39  54.0  30.0  280.0   \n",
       "2    2024-01-03   5.14     NaN  0.03   0.0   0.0    39  47.0  31.0  290.0   \n",
       "3    2024-01-04   9.62     NaN  0.00   0.0   0.0    41  53.0  34.0  320.0   \n",
       "4    2024-01-05  11.18     NaN  0.17   0.0   0.0    40  53.0  32.0   90.0   \n",
       "..          ...    ...     ...   ...   ...   ...   ...   ...   ...    ...   \n",
       "140  2024-05-20   6.04     NaN  0.00   0.0   NaN    74  85.0  64.0   90.0   \n",
       "141  2024-05-21   4.92     NaN  0.00   0.0   NaN    77  86.0  67.0  140.0   \n",
       "142  2024-05-22   5.37  1437.0  0.00   0.0   NaN    77  87.0  67.0  160.0   \n",
       "143  2024-05-23   6.04  1703.0  0.00   0.0   NaN    78  88.0  70.0  220.0   \n",
       "144  2024-05-24    NaN     NaN   NaN   NaN   NaN    77   NaN   NaN    NaN   \n",
       "\n",
       "      WDF5  WSF2  WSF5  WT01  WT02  WT03  WT08  \n",
       "0    320.0  23.0  30.0   NaN   NaN   NaN   NaN  \n",
       "1    320.0  13.0  17.0   NaN   NaN   NaN   NaN  \n",
       "2    310.0   8.9  12.1   NaN   NaN   NaN   NaN  \n",
       "3    320.0  17.0  23.0   NaN   NaN   NaN   NaN  \n",
       "4     80.0  18.1  25.9   1.0   NaN   NaN   NaN  \n",
       "..     ...   ...   ...   ...   ...   ...   ...  \n",
       "140   80.0  13.0  21.9   NaN   NaN   NaN   NaN  \n",
       "141  150.0  12.1  16.1   NaN   NaN   NaN   1.0  \n",
       "142  220.0  15.0  21.0   NaN   NaN   NaN   1.0  \n",
       "143  210.0  16.1  21.0   NaN   NaN   NaN   1.0  \n",
       "144    NaN   NaN   NaN   NaN   NaN   NaN   NaN  \n",
       "\n",
       "[145 rows x 19 columns]"
      ]
     },
     "execution_count": 30,
     "metadata": {},
     "output_type": "execute_result"
    }
   ],
   "source": [
    "#Use \n",
    "atlanta_weath = pd.read_csv(\"AtlantaTestData.csv\",sep=\",\")\n",
    "atlanta_weath"
   ]
  },
  {
   "cell_type": "markdown",
   "id": "c968ebd8",
   "metadata": {},
   "source": [
    "### Plotting DataFrames "
   ]
  },
  {
   "cell_type": "markdown",
   "id": "11cde4f9",
   "metadata": {},
   "source": [
    "Pandas also has a built-in plotting feature that is dependent on matplotlib. You can use multiple plot functions that we saw last week when learning matplotlib. The syntax of most plotting goes as follows:<br>\n",
    "<br>\n",
    "**df.plot(data,x=\"label or position\",y=\"label or position\", kind = \"plot-type\", xlabel = \"x-axis label\",\n",
    "          y-label = \"y-axis\", title = \"title\")**\n",
    "<br>\n",
    "<br>\n",
    "Some plot-types: \n",
    "\n",
    "- 'line' : line plot (default)\n",
    "\n",
    "- ‘bar’ : vertical bar plot\n",
    "\n",
    "- ‘barh’ : horizontal bar plot\n",
    "\n",
    "- 'hist’ : histogram\n",
    "\n",
    "- ‘box’ : boxplot\n",
    "\n",
    "- ‘kde’ : Kernel Density Estimation plot\n",
    "\n",
    "- ‘density’ : same as ‘kde’\n",
    "\n",
    "- ‘area’ : area plot\n",
    "\n",
    "- ‘pie’ : pie plot\n",
    "\n",
    "- ‘scatter’ : scatter plot (DataFrame only)\n",
    "\n",
    "- ‘hexbin’ : hexbin plot (DataFrame only)<br>\n",
    "\n",
    "<br>\n",
    "<br>\n",
    "\n",
    "This list can also be viewed on the pandas documentation page for plotting DataFrame, which you can find **[here](https://pandas.pydata.org/docs/reference/api/pandas.DataFrame.plot.html)**.\n",
    "\n",
    "       "
   ]
  },
  {
   "cell_type": "markdown",
   "id": "57a7df62",
   "metadata": {},
   "source": [
    "Let's try plotting our original DataFrame (my_dataframe)!"
   ]
  },
  {
   "cell_type": "code",
   "execution_count": 31,
   "id": "541bec37",
   "metadata": {},
   "outputs": [
    {
     "data": {
      "text/plain": [
       "<Axes: title={'center': 'Number Sequences'}, xlabel='Input', ylabel='Output'>"
      ]
     },
     "execution_count": 31,
     "metadata": {},
     "output_type": "execute_result"
    },
    {
     "data": {
      "image/png": "[encoded data removed]",
      "text/plain": [
       "<Figure size 640x480 with 1 Axes>"
      ]
     },
     "metadata": {},
     "output_type": "display_data"
    }
   ],
   "source": [
    "#Let's Plot our original Data Frame\n",
    "my_DataFrame.plot(xlabel='Input',ylabel=\"Output\", title=\"Number Sequences\")"
   ]
  },
  {
   "cell_type": "markdown",
   "id": "59cc3c38",
   "metadata": {},
   "source": [
    "DataFrames can also produce a figure of subplots by including the arguement in the previous plot function: **subplots=True**, which will create a subplot for every column within the DataFrame. <br>\n",
    "<br>\n",
    "**Note: the default input for the subplots arguement is False**"
   ]
  },
  {
   "cell_type": "code",
   "execution_count": 32,
   "id": "681ee285",
   "metadata": {},
   "outputs": [
    {
     "data": {
      "text/plain": [
       "array([<Axes: title={'center': 'Squared-Whole Numbers'}, xlabel='Input', ylabel='Output'>,\n",
       "       <Axes: title={'center': 'Fibonacci Sequence'}, xlabel='Input', ylabel='Output'>,\n",
       "       <Axes: title={'center': 'Reciprocals of Whole Numbers'}, xlabel='Input', ylabel='Output'>,\n",
       "       <Axes: title={'center': 'Cubes of Whole Numbers'}, xlabel='Input', ylabel='Output'>],\n",
       "      dtype=object)"
      ]
     },
     "execution_count": 32,
     "metadata": {},
     "output_type": "execute_result"
    },
    {
     "data": {
      "image/png": "[encoded data removed]",
      "text/plain": [
       "<Figure size 1000x1000 with 4 Axes>"
      ]
     },
     "metadata": {},
     "output_type": "display_data"
    }
   ],
   "source": [
    "#Plotting a DataFrame of subplots\n",
    "my_DataFrame.plot(xlabel='Input',ylabel=\"Output\", title=list(my_DataFrame.columns),subplots=True,legend=False,\n",
    "                 figsize=(10,10))\n",
    "#Note: legend=False removes the legend from the plot"
   ]
  },
  {
   "cell_type": "markdown",
   "id": "9b501c52",
   "metadata": {},
   "source": [
    "# A Brief Return to NumPy"
   ]
  },
  {
   "cell_type": "markdown",
   "id": "5935a730",
   "metadata": {},
   "source": [
    "### NumPy Logical Functions"
   ]
  },
  {
   "cell_type": "markdown",
   "id": "46a7eae3",
   "metadata": {},
   "source": [
    "Last week, we introduced a few different logical conditions built-into python. NumPy also has several logical functions built-in as well. The full list of logical functions can be found **[here](https://numpy.org/doc/stable/reference/routines.logic.html)**. We will be looking at the functions: **np.iscomplex**, **np.isreal**, **np.array_equal**, **np.isnan**, and **np.array_equal**."
   ]
  },
  {
   "cell_type": "markdown",
   "id": "78036772",
   "metadata": {},
   "source": [
    "- **np.iscomplex(array)**: Checks every element in an array to see if its complex and returns an array of booleans\n",
    "- **np.isreal(array)**: Checks every element in an array if its real and returns an array of booleans\n",
    "- **np.isnan(array)**: Check every element in an array to see if its a nan value and returns an array of booleans\n",
    "- **np.array_equal(array1, array2)**: Checks if the two arrays share the same shape and elements"
   ]
  },
  {
   "cell_type": "code",
   "execution_count": 33,
   "id": "1c111672",
   "metadata": {},
   "outputs": [
    {
     "name": "stdout",
     "output_type": "stream",
     "text": [
      "[False  True False  True False] [False False False False False]\n"
     ]
    }
   ],
   "source": [
    "#Let's test out the logical functions\n",
    "#Create two new arrays\n",
    "new_array = np.array([1, 2j, 3, 4j, 5])\n",
    "new_array2 = np.array([1.0, 2, 3.0, 4, np.nan])\n",
    "\n",
    "#Testing out iscomplex\n",
    "print(np.iscomplex(new_array),np.iscomplex(new_array2))"
   ]
  },
  {
   "cell_type": "code",
   "execution_count": 34,
   "id": "855f3ffb",
   "metadata": {},
   "outputs": [
    {
     "name": "stdout",
     "output_type": "stream",
     "text": [
      "[ True False  True False  True] [ True  True  True  True  True]\n"
     ]
    }
   ],
   "source": [
    "#Testing out isreal\n",
    "print(np.isreal(new_array),np.isreal(new_array2))"
   ]
  },
  {
   "cell_type": "markdown",
   "id": "f1cdbbb8",
   "metadata": {},
   "source": [
    "**Fun Fact**: NaNs are considered real!"
   ]
  },
  {
   "cell_type": "code",
   "execution_count": 35,
   "id": "ed06a975",
   "metadata": {},
   "outputs": [
    {
     "name": "stdout",
     "output_type": "stream",
     "text": [
      "[False False False False False] [False False False False  True]\n"
     ]
    }
   ],
   "source": [
    "#Testing out isnan\n",
    "print(np.isnan(new_array),np.isnan(new_array2))"
   ]
  },
  {
   "cell_type": "code",
   "execution_count": 36,
   "id": "ef0b3e2a",
   "metadata": {},
   "outputs": [
    {
     "name": "stdout",
     "output_type": "stream",
     "text": [
      "True False\n"
     ]
    }
   ],
   "source": [
    "#Testing out array equal\n",
    "print(np.array_equal(new_array,new_array),np.array_equal(new_array,new_array2))"
   ]
  },
  {
   "cell_type": "markdown",
   "id": "ffa917d3",
   "metadata": {},
   "source": [
    "### Numpy Conditional Indexing Functions"
   ]
  },
  {
   "cell_type": "markdown",
   "id": "121174f5",
   "metadata": {},
   "source": [
    "We will be looking at a few NumPy functions that return the element position (indices) where a conditional statement is **True**. The two functions we will be looking at are: <br>\n",
    "<br>\n",
    "- **np.where(condition)**: returns an array of indices where the condition is **True**\n",
    "- **np.nonzero(array)**: returns an array of indices where the elements are nonzero"
   ]
  },
  {
   "cell_type": "markdown",
   "id": "8e25462b",
   "metadata": {},
   "source": [
    "The full list of indexing function in NumPy can be found **[here](https://numpy.org/doc/stable/reference/arrays.indexing.html)**."
   ]
  },
  {
   "cell_type": "code",
   "execution_count": 37,
   "id": "f3e26ea0",
   "metadata": {},
   "outputs": [
    {
     "name": "stdout",
     "output_type": "stream",
     "text": [
      "(array([11, 12, 13, 14, 15, 16, 17, 18, 19]),)\n",
      "[1. 2. 3. 4. 5. 6. 7. 8. 9.]\n"
     ]
    }
   ],
   "source": [
    "#Creating a new array\n",
    "new_array3 = np.arange(-10.0,10.0,1)\n",
    "\n",
    "#Testing out the where function\n",
    "even_inds = np.where(new_array3 > 0)\n",
    "print(even_inds)\n",
    "\n",
    "#Using the array of indices\n",
    "print(new_array3[even_inds])"
   ]
  },
  {
   "cell_type": "code",
   "execution_count": 38,
   "id": "ea119554",
   "metadata": {},
   "outputs": [
    {
     "name": "stdout",
     "output_type": "stream",
     "text": [
      "(array([ 0,  1,  2,  3,  4,  5,  6,  7,  8,  9, 11, 12, 13, 14, 15, 16, 17,\n",
      "       18, 19]),)\n",
      "[-10.  -9.  -8.  -7.  -6.  -5.  -4.  -3.  -2.  -1.   1.   2.   3.   4.\n",
      "   5.   6.   7.   8.   9.]\n"
     ]
    }
   ],
   "source": [
    "#Testing out the nonzero function\n",
    "non0_inds = np.nonzero(new_array3)\n",
    "print(non0_inds)\n",
    "\n",
    "#Using the array of indices\n",
    "print(new_array3[non0_inds])"
   ]
  },
  {
   "cell_type": "markdown",
   "id": "f75f3277",
   "metadata": {},
   "source": [
    "### Altering NumPy Array Elements"
   ]
  },
  {
   "cell_type": "markdown",
   "id": "5f066037",
   "metadata": {},
   "source": [
    "Similarly to appending panda.DataFrames and panda.Series, you can append NumPy arrays as well. There are three main commands to alter, add, and remove elements within a NumPy array. <br>\n",
    "- **np.insert( )** : adds a new element(s) to designated indice(s) of an array \n",
    "- **np.delete( )** : deletes an element(s) at designated indice(s) of an array \n",
    "- **np.append( )** : adds a new element(s) at the end of an array"
   ]
  },
  {
   "cell_type": "markdown",
   "id": "d39bb016",
   "metadata": {},
   "source": [
    "#### Inserting a new element into an array"
   ]
  },
  {
   "cell_type": "markdown",
   "id": "f4254ffb",
   "metadata": {},
   "source": [
    "The **numpy.insert** function allows a new element(s) to be added into an existing array for a given element position(s) (otherwise known as an index).<br>\n",
    "\n",
    "Syntax: **np.insert(array, element position(s), value(s))**"
   ]
  },
  {
   "cell_type": "code",
   "execution_count": 39,
   "id": "7650a6eb",
   "metadata": {},
   "outputs": [
    {
     "data": {
      "text/plain": [
       "array([ 0.5,  1. ,  2. ,  3. ,  4. ,  5. ,  6. ,  7. ,  8. ,  9. , 10. ,\n",
       "       11. , 12. , 13. , 14. , 15. , 16. , 17. , 18. , 19. , 20. ])"
      ]
     },
     "execution_count": 39,
     "metadata": {},
     "output_type": "execute_result"
    }
   ],
   "source": [
    "#Using the Insert Function \n",
    "#Creating a random array \n",
    "#Adding a single new element \n",
    "an_array = np.linspace(1,20,20)\n",
    "an_array = np.insert(an_array, 0, 0.5)\n",
    "an_array"
   ]
  },
  {
   "cell_type": "code",
   "execution_count": 40,
   "id": "59e7f26c",
   "metadata": {},
   "outputs": [
    {
     "data": {
      "text/plain": [
       "array([ 0.  ,  0.25,  0.5 ,  0.75,  1.  ,  2.  ,  3.  ,  4.  ,  5.  ,\n",
       "        6.  ,  7.  ,  8.  ,  9.  , 10.  , 11.  , 12.  , 13.  , 14.  ,\n",
       "       15.  , 16.  , 17.  , 18.  , 19.  , 20.  ])"
      ]
     },
     "execution_count": 40,
     "metadata": {},
     "output_type": "execute_result"
    }
   ],
   "source": [
    "#Adding multiple elements into an array\n",
    "an_array = np.insert(an_array,[0,0,1],[0,0.25,0.75])\n",
    "an_array"
   ]
  },
  {
   "cell_type": "markdown",
   "id": "1c648a61",
   "metadata": {},
   "source": [
    "#### Deleting element(s) in an array"
   ]
  },
  {
   "cell_type": "markdown",
   "id": "b1d615ba",
   "metadata": {},
   "source": [
    "The **numpy.delete** function deletes an element(s) from an existing array for a given element position(s). <br>\n",
    "<br>\n",
    "Syntax:**np.delete(array,element position(s))**"
   ]
  },
  {
   "cell_type": "code",
   "execution_count": 41,
   "id": "c84c006a",
   "metadata": {},
   "outputs": [
    {
     "data": {
      "text/plain": [
       "array([ 0.  ,  0.5 ,  0.75,  1.  ,  2.  ,  3.  ,  4.  ,  5.  ,  6.  ,\n",
       "        7.  ,  8.  ,  9.  , 10.  , 11.  , 12.  , 13.  , 14.  , 15.  ,\n",
       "       16.  , 17.  , 18.  , 19.  , 20.  ])"
      ]
     },
     "execution_count": 41,
     "metadata": {},
     "output_type": "execute_result"
    }
   ],
   "source": [
    "#Using the Delete Function\n",
    "#Removing a single element from an array \n",
    "an_array = np.delete(an_array,1)\n",
    "an_array"
   ]
  },
  {
   "cell_type": "code",
   "execution_count": 42,
   "id": "322f6181",
   "metadata": {},
   "outputs": [
    {
     "data": {
      "text/plain": [
       "array([ 0.,  1.,  2.,  3.,  4.,  5.,  6.,  7.,  8.,  9., 10., 11., 12.,\n",
       "       13., 14., 15., 16., 17., 18., 19., 20.])"
      ]
     },
     "execution_count": 42,
     "metadata": {},
     "output_type": "execute_result"
    }
   ],
   "source": [
    "# Removing multiple elements in an array \n",
    "an_array = np.delete(an_array,[1,2])\n",
    "an_array"
   ]
  },
  {
   "cell_type": "markdown",
   "id": "c2c8e05b",
   "metadata": {},
   "source": [
    "#### Appending  an array"
   ]
  },
  {
   "cell_type": "markdown",
   "id": "e17c0b2a",
   "metadata": {},
   "source": [
    "The **numpy.append** function adds an element or series of elements to the end of an array. <br>\n",
    "<br>\n",
    "Syntax: **np.append(array, values, axis)**"
   ]
  },
  {
   "cell_type": "code",
   "execution_count": 43,
   "id": "162c6ad3",
   "metadata": {},
   "outputs": [
    {
     "data": {
      "text/plain": [
       "array([ 0.,  1.,  2.,  3.,  4.,  5.,  6.,  7.,  8.,  9., 10., 11., 12.,\n",
       "       13., 14., 15., 16., 17., 18., 19., 20., 21.])"
      ]
     },
     "execution_count": 43,
     "metadata": {},
     "output_type": "execute_result"
    }
   ],
   "source": [
    "#Appending our exisiting array \n",
    "#Appending a single value\n",
    "an_array  = np.append(an_array,21.0)\n",
    "an_array"
   ]
  },
  {
   "cell_type": "code",
   "execution_count": 44,
   "id": "bc310474",
   "metadata": {},
   "outputs": [
    {
     "data": {
      "text/plain": [
       "array([ 0.,  1.,  2.,  3.,  4.,  5.,  6.,  7.,  8.,  9., 10., 11., 12.,\n",
       "       13., 14., 15., 16., 17., 18., 19., 20., 21., 22., 23., 24., 25.,\n",
       "       26., 27., 28., 29., 30., 31., 32., 33., 34., 35., 36., 37., 38.,\n",
       "       39., 40., 41., 42., 43.])"
      ]
     },
     "execution_count": 44,
     "metadata": {},
     "output_type": "execute_result"
    }
   ],
   "source": [
    "#Appending our existing array \n",
    "#Appending multiple values\n",
    "an_array = np.append(an_array,[np.linspace(22,43,22)]) #values arguement must same shape as array when inserting multiple values\n",
    "an_array"
   ]
  },
  {
   "cell_type": "markdown",
   "id": "2ff63a02",
   "metadata": {},
   "source": [
    "# Looping in Python"
   ]
  },
  {
   "cell_type": "markdown",
   "id": "012c8581",
   "metadata": {},
   "source": [
    "**Looping** is a useful tool built-in to Python that allows the user to repeats a set of commands over a given condition. There are two types of loops in Python: **for** loops and **while** loops. Both are useful tools in performing data analysis on specific elements within a large data set. The first cardinal rule in using loops in python is to **maintain the indent position** otherwise you will recieve an error. "
   ]
  },
  {
   "cell_type": "markdown",
   "id": "f09e3501",
   "metadata": {},
   "source": [
    "## For Loops"
   ]
  },
  {
   "cell_type": "markdown",
   "id": "8781fde5",
   "metadata": {},
   "source": [
    "For loops iterate over a sequence. This sequence can be over each element in a data structure or over a desginated number of times. The bare bones syntax for a for loop is the following:<br>\n",
    "**for temp_var in data_structure/range(# of iterations):**<br>\n",
    "> **command 1** <br>\n",
    "> **command 2** <br>\n",
    "> **command 3** <br>\n",
    "> **etc.** <br>\n",
    "\n",
    "<br>\n",
    "Let's practice setting up a for loop!"
   ]
  },
  {
   "cell_type": "code",
   "execution_count": 45,
   "id": "fbc299f0",
   "metadata": {},
   "outputs": [
    {
     "name": "stdout",
     "output_type": "stream",
     "text": [
      "1.0\n",
      "2.0\n",
      "3.0\n",
      "4.0\n",
      "5.0\n",
      "6.0\n",
      "7.0\n",
      "8.0\n",
      "9.0\n",
      "10.0\n"
     ]
    }
   ],
   "source": [
    "#Create a numpy array \n",
    "my_array = np.linspace(1,10,10)\n",
    "\n",
    "#Setting up our for loop\n",
    "for x in my_array: #Iterrating through each element in our array \n",
    "    print(x) #Printing each element in our array as the loop iterates "
   ]
  },
  {
   "cell_type": "markdown",
   "id": "f0b13cfa",
   "metadata": {},
   "source": [
    "Our temporary variable x stores the vaule it was assigned during the last iteration of the loop. "
   ]
  },
  {
   "cell_type": "code",
   "execution_count": 46,
   "id": "d5be1b03",
   "metadata": {},
   "outputs": [
    {
     "data": {
      "text/plain": [
       "10.0"
      ]
     },
     "execution_count": 46,
     "metadata": {},
     "output_type": "execute_result"
    }
   ],
   "source": [
    "#Printing our iteration variable\n",
    "x "
   ]
  },
  {
   "cell_type": "markdown",
   "id": "0635931e",
   "metadata": {},
   "source": [
    "This is an example of iterating through a data structure. One can iterates through lists, dictionaries, numpy arrays, strings, pandas.Series, columns or rows of Pandas.DataFrames, and much more. Another method of iterating is over a designated number of times. This can be accomplished with **range( )** function, which a built-in Python function that (similarly to **numpy.arange** returns a sequence of numbers form the designated start and stop point. The unique feature of the **range( )** function is will accept **integer** data types as an input and only output a sequence of **integer**s. <br>\n",
    "<br>\n",
    "Syntax: **range(start, stop, step)**\n",
    "<br>\n",
    "<br> All inputs must be integers.<br>\n",
    "Default **start** is 0."
   ]
  },
  {
   "cell_type": "code",
   "execution_count": 47,
   "id": "c20d66ce",
   "metadata": {},
   "outputs": [
    {
     "name": "stdout",
     "output_type": "stream",
     "text": [
      "0\n",
      "1\n",
      "2\n",
      "3\n",
      "4\n",
      "5\n",
      "6\n",
      "7\n",
      "8\n",
      "9\n"
     ]
    }
   ],
   "source": [
    "#Quick Examples of the range() function\n",
    "for x2 in range(10): #Iterating through the loop ten times\n",
    "    print(x2) #Printing iteration variable "
   ]
  },
  {
   "cell_type": "markdown",
   "id": "8558ef32",
   "metadata": {},
   "source": [
    "Similarly to splicing when indexing, it will end at one integer before the designated end point."
   ]
  },
  {
   "cell_type": "markdown",
   "id": "76836d99",
   "metadata": {},
   "source": [
    "## While Loops"
   ]
  },
  {
   "cell_type": "markdown",
   "id": "5f8c3319",
   "metadata": {},
   "source": [
    "The other type of loops is the **while** loop. **While** loops continue a set of commands as long as the condition it is given remains **True**. If the condition is **False**, python moves to the next line outside of the loop. <br>\n",
    "<br>\n",
    "**while conditional_statement:**<br>\n",
    "> **command 1** <br>\n",
    "> **command 2** <br>\n",
    "> **command 3** <br>\n",
    "> **etc.**"
   ]
  },
  {
   "cell_type": "code",
   "execution_count": 48,
   "id": "07e0823e",
   "metadata": {},
   "outputs": [
    {
     "name": "stdout",
     "output_type": "stream",
     "text": [
      "0\n",
      "1\n",
      "2\n",
      "3\n",
      "4\n",
      "5\n",
      "6\n",
      "7\n",
      "8\n",
      "9\n"
     ]
    }
   ],
   "source": [
    "#Example of While Loop\n",
    "x=0\n",
    "while x<10:\n",
    "    print(x)\n",
    "    x= x+1"
   ]
  },
  {
   "cell_type": "markdown",
   "id": "434f0a0a",
   "metadata": {},
   "source": [
    "Note: **Be careful!** If the condition is not updated with each iteration (and therefore stays **True** forever), the while loop will continue to run until you either run out of memory and your IDE crashes or you manually kill the kernel(or console depending on your IDE). "
   ]
  },
  {
   "cell_type": "markdown",
   "id": "eed5162a",
   "metadata": {},
   "source": [
    "## Nested Loops"
   ]
  },
  {
   "cell_type": "markdown",
   "id": "122473ca",
   "metadata": {},
   "source": [
    "**Nested Loops** are when a loop contains one or more loops within it. This can be handy when iterating multi-dimensional data sets, appending multi-dimensional data structures, solving a mathematical function to append an element in a data structure, and much more!"
   ]
  },
  {
   "cell_type": "code",
   "execution_count": 49,
   "id": "3e24673e",
   "metadata": {},
   "outputs": [
    {
     "name": "stdout",
     "output_type": "stream",
     "text": [
      "Row Title: 0, Column Title: Squared-Whole Numbers\n",
      "Row Title: 0, Column Title: Fibonacci Sequence\n",
      "Row Title: 0, Column Title: Reciprocals of Whole Numbers\n",
      "Row Title: 0, Column Title: Cubes of Whole Numbers\n",
      "Row Title: 1, Column Title: Squared-Whole Numbers\n",
      "Row Title: 1, Column Title: Fibonacci Sequence\n",
      "Row Title: 1, Column Title: Reciprocals of Whole Numbers\n",
      "Row Title: 1, Column Title: Cubes of Whole Numbers\n",
      "Row Title: 2, Column Title: Squared-Whole Numbers\n",
      "Row Title: 2, Column Title: Fibonacci Sequence\n",
      "Row Title: 2, Column Title: Reciprocals of Whole Numbers\n",
      "Row Title: 2, Column Title: Cubes of Whole Numbers\n",
      "Row Title: 3, Column Title: Squared-Whole Numbers\n",
      "Row Title: 3, Column Title: Fibonacci Sequence\n",
      "Row Title: 3, Column Title: Reciprocals of Whole Numbers\n",
      "Row Title: 3, Column Title: Cubes of Whole Numbers\n",
      "Row Title: 4, Column Title: Squared-Whole Numbers\n",
      "Row Title: 4, Column Title: Fibonacci Sequence\n",
      "Row Title: 4, Column Title: Reciprocals of Whole Numbers\n",
      "Row Title: 4, Column Title: Cubes of Whole Numbers\n"
     ]
    }
   ],
   "source": [
    "#Nested For Loop\n",
    "colum_num = len(my_DataFrame.columns)\n",
    "index_num = len(my_DataFrame.index)\n",
    "\n",
    "for i in range(index_num): #Setting Range as number of rows in our DataFrame\n",
    "    for j in range(colum_num):\n",
    "        print(\"Row Title: \"+str(my_DataFrame.index[i])+\", Column Title: \"+ str(my_DataFrame.columns[j]))"
   ]
  },
  {
   "cell_type": "code",
   "execution_count": 50,
   "id": "ff9cce8b",
   "metadata": {},
   "outputs": [
    {
     "name": "stdout",
     "output_type": "stream",
     "text": [
      "i  = -3\n",
      "j = 4\n",
      "j = 3\n",
      "j = 2\n",
      "j = 1\n",
      "i  = -2\n",
      "i  = -1\n"
     ]
    }
   ],
   "source": [
    "#Nested While Loop\n",
    "i=-3\n",
    "j = 4\n",
    "while i<0:\n",
    "    print(\"i  = \"+str(i))\n",
    "    i = i+1\n",
    "    while j>0:\n",
    "        print('j = '+str(j))\n",
    "        j = j-1"
   ]
  },
  {
   "cell_type": "code",
   "execution_count": 68,
   "id": "a96fe21b",
   "metadata": {},
   "outputs": [
    {
     "name": "stdout",
     "output_type": "stream",
     "text": [
      "i = 0\n",
      "j = 6\n",
      "j = 12\n",
      "i = 1\n",
      "j = 6\n",
      "j = 12\n",
      "i = 2\n",
      "j = 6\n",
      "j = 12\n",
      "i = 3\n",
      "j = 6\n",
      "j = 12\n",
      "i = 4\n",
      "j = 6\n",
      "j = 12\n"
     ]
    }
   ],
   "source": [
    "#Nested While Loop in a For Loop \n",
    "\n",
    "for i in range(5):\n",
    "    print(\"i = \" +str(i))\n",
    "    j = 6\n",
    "    while j<24:\n",
    "        print(\"j = \"+str(j))\n",
    "        j = j+j\n",
    "        "
   ]
  },
  {
   "cell_type": "markdown",
   "id": "b13fd787",
   "metadata": {},
   "source": [
    "### Psuedo-code previous for loop <br>\n",
    "  for i in range(5):<br>\n",
    ">     First Iteration of for loop: i = 0\n",
    "    print(i=0)\n",
    "    j=6\n",
    "    while j<24: \n",
    "    \n",
    "    \n",
    ">>      First Iteration of while loop:\n",
    "        j=6 < 24 \n",
    "        j+j=6+6=12 \n",
    "    Second Iteration of while loop: \n",
    "        j=12 < 24 \n",
    "        j+j = 12+12 = 24 \n",
    "    Third Iteration of while loop: \n",
    "        j= 24 not < 24 \n",
    "        condition is False \n",
    "        \n",
    ">     Second Iteration of for loop: i = 1\n",
    "    print(i=0)\n",
    "    j=6 \n",
    "    while j<24:\n",
    "    \n",
    "    \n",
    ">>      First Iteration of while loop:<br>  \n",
    "        j=6 < 24\n",
    "        j+j=6+6=12\n",
    "    Second Iteration of while loop:\n",
    "        j=12 < 24 \n",
    "        j+j = 12+12 = 24 \n",
    "    Third Iteration of while loop: \n",
    "        j= 24 not < 24 \n",
    "        condition is False \n",
    "        \n",
    ">     Third Iteration of for loop: i = 2\n",
    "    i = 2 \n",
    "    print(i=0)\n",
    "    j=6 \n",
    "    while j<24:\n",
    "    \n",
    "    \n",
    ">>      First Iteration of while loop:  \n",
    "        j=6 < 24 \n",
    "        j+j=6+6=12 \n",
    "    Second Iteration of while loop:\n",
    "        j=12 < 24\n",
    "        j+j = 12+12 = 24\n",
    "    Third Iteration of while loop: \n",
    "        j= 24 not < 24 \n",
    "        condition is False \n",
    "        \n",
    "etc."
   ]
  },
  {
   "cell_type": "code",
   "execution_count": 70,
   "id": "708df9db",
   "metadata": {},
   "outputs": [
    {
     "name": "stdout",
     "output_type": "stream",
     "text": [
      "10\n",
      "It's almost June!\n",
      "It's almost June!\n",
      "It's almost June!\n",
      "It's almost June!\n",
      "It's almost June!\n",
      "20\n",
      "It's almost June!\n",
      "It's almost June!\n",
      "It's almost June!\n",
      "It's almost June!\n",
      "It's almost June!\n",
      "30\n",
      "It's almost June!\n",
      "It's almost June!\n",
      "It's almost June!\n",
      "It's almost June!\n",
      "It's almost June!\n"
     ]
    }
   ],
   "source": [
    "#Nested For Loop in a While Loop\n",
    "n=0\n",
    "i=0\n",
    "\n",
    "while n < 30:\n",
    "    n = n + 10\n",
    "    print(n)\n",
    "    for i in range(5):\n",
    "        print(\"It's almost June!\")"
   ]
  },
  {
   "cell_type": "markdown",
   "id": "517a480a",
   "metadata": {},
   "source": [
    "### Built-in Python logical operators"
   ]
  },
  {
   "cell_type": "markdown",
   "id": "9e8b1fdc",
   "metadata": {},
   "source": [
    "Similar to the NumPy logical functions, Python has built-in logical operators that compare multiple conditional statements. These three operators are: **and**, **or**, and **not** operators."
   ]
  },
  {
   "cell_type": "markdown",
   "id": "622caee3",
   "metadata": {},
   "source": [
    "#### \"and\" Operator"
   ]
  },
  {
   "cell_type": "markdown",
   "id": "c1785084",
   "metadata": {},
   "source": [
    "The **\"and\"** operator will return **True** if **ALL** conditional statements it's given are **True**. Otherwise it will return a **False**. Order of the conditional statements doesn't matter."
   ]
  },
  {
   "cell_type": "code",
   "execution_count": 53,
   "id": "df9ba2b3",
   "metadata": {},
   "outputs": [
    {
     "name": "stdout",
     "output_type": "stream",
     "text": [
      "True\n",
      "False\n",
      "False\n"
     ]
    }
   ],
   "source": [
    "#and Operator\n",
    "#Two True Statements\n",
    "print(1>0 and -1<0) \n",
    "\n",
    "#One True and One Falase Statement\n",
    "print(1>0 and -1>0)\n",
    "\n",
    "#Two False Statements\n",
    "print(1<0 and -1>0)"
   ]
  },
  {
   "cell_type": "code",
   "execution_count": 54,
   "id": "92ad4eca",
   "metadata": {},
   "outputs": [
    {
     "data": {
      "text/plain": [
       "True"
      ]
     },
     "execution_count": 54,
     "metadata": {},
     "output_type": "execute_result"
    }
   ],
   "source": [
    "#You can use multiple and statements in a row \n",
    "1>0 and -1< 0 and 0.5==1/2 #ALL must be true to return True "
   ]
  },
  {
   "cell_type": "code",
   "execution_count": 55,
   "id": "db375821",
   "metadata": {},
   "outputs": [
    {
     "data": {
      "text/plain": [
       "False"
      ]
     },
     "execution_count": 55,
     "metadata": {},
     "output_type": "execute_result"
    }
   ],
   "source": [
    "#Otherwise...\n",
    "1<0 and -1<0 and 0.5==1/2"
   ]
  },
  {
   "cell_type": "markdown",
   "id": "92f93d1f",
   "metadata": {},
   "source": [
    "#### \"or\" Operator"
   ]
  },
  {
   "cell_type": "markdown",
   "id": "fde261a0",
   "metadata": {},
   "source": [
    "The **\"or\"** operator will return **True** if **ONE** of the conditional statements given is **True**. The \"or\" operator will return a **False** if **ALL** the conditional statements are **False**. Order of the conditional statements doesn't matter."
   ]
  },
  {
   "cell_type": "code",
   "execution_count": 56,
   "id": "e1a247a0",
   "metadata": {},
   "outputs": [
    {
     "name": "stdout",
     "output_type": "stream",
     "text": [
      "True\n",
      "True\n",
      "False\n"
     ]
    }
   ],
   "source": [
    "#or Operator\n",
    "#Two True Statements \n",
    "print(1>0 or -1<0)\n",
    "\n",
    "#One True and One False Statement \n",
    "print(1<0 or -1<0)\n",
    "\n",
    "#TWo False Statements\n",
    "print(1<0 or -1>0)"
   ]
  },
  {
   "cell_type": "code",
   "execution_count": 57,
   "id": "2eef9c8f",
   "metadata": {},
   "outputs": [
    {
     "data": {
      "text/plain": [
       "True"
      ]
     },
     "execution_count": 57,
     "metadata": {},
     "output_type": "execute_result"
    }
   ],
   "source": [
    "#or Operator can also have multiple statements in a row \n",
    "1==0 or 10>5 or np.pi>22/7 #Will return true if at least ONE statement is True "
   ]
  },
  {
   "cell_type": "markdown",
   "id": "a116a9a5",
   "metadata": {},
   "source": [
    "#### \"not\" Operator"
   ]
  },
  {
   "cell_type": "markdown",
   "id": "b5a09466",
   "metadata": {},
   "source": [
    "The **\"not\"** operator will return the opposite boolean of a conditional statement.<br>\n",
    "<br>\n",
    "If your conditional statement is **True**,<br>\n",
    "> **not** conditional statement: return **False**\n",
    "<br>\n",
    "\n",
    "If you conditional statement is **False**,<br>\n",
    "> **not** conditionanl statement: return **True**"
   ]
  },
  {
   "cell_type": "markdown",
   "id": "59bc2998",
   "metadata": {},
   "source": [
    "To put it simply: <br>\n",
    "<br>\n",
    "**not True** = **False**<br>\n",
    "**not False** = **True**"
   ]
  },
  {
   "cell_type": "code",
   "execution_count": 58,
   "id": "4b199d9f",
   "metadata": {},
   "outputs": [
    {
     "name": "stdout",
     "output_type": "stream",
     "text": [
      "False\n",
      "True\n"
     ]
    }
   ],
   "source": [
    "#not Operator \n",
    "#True Condtional Statement \n",
    "print(not 10>9)\n",
    "\n",
    "#False Conditional Statement \n",
    "print(not np.pi>22/7)"
   ]
  },
  {
   "cell_type": "markdown",
   "id": "6656980b",
   "metadata": {},
   "source": [
    "Similarly to the **bool( )** function we saw in Week 1, if you feed **not** a value that is non-empty/non-zero it will return a **False**. If you feed **not** an empty/zero value it will return a **True**."
   ]
  },
  {
   "cell_type": "code",
   "execution_count": 59,
   "id": "24396e3e",
   "metadata": {},
   "outputs": [
    {
     "data": {
      "text/plain": [
       "(True, True)"
      ]
     },
     "execution_count": 59,
     "metadata": {},
     "output_type": "execute_result"
    }
   ],
   "source": [
    "#Empty/Zero Values\n",
    "not [], not 10-10"
   ]
  },
  {
   "cell_type": "code",
   "execution_count": 60,
   "id": "abc0efe7",
   "metadata": {},
   "outputs": [
    {
     "data": {
      "text/plain": [
       "(False, False)"
      ]
     },
     "execution_count": 60,
     "metadata": {},
     "output_type": "execute_result"
    }
   ],
   "source": [
    "#Non-Empty/Non-Zeros Values\n",
    "not my_dict2, not 100"
   ]
  },
  {
   "cell_type": "markdown",
   "id": "cd7df8c4",
   "metadata": {},
   "source": [
    "## Non-Mathematical Conditional Operators"
   ]
  },
  {
   "cell_type": "markdown",
   "id": "4f69fd03",
   "metadata": {},
   "source": [
    "Python has non-mathematical conditional operators that are very handy for building loops and nested loops. There operators are: **if**, **elif**, and **else**.<br>\n",
    "Similarly to loops, a colon (**:**) must be placed at the end of statement that follows one of these operators."
   ]
  },
  {
   "cell_type": "markdown",
   "id": "c20168b4",
   "metadata": {},
   "source": [
    "#### \"if\" Operator"
   ]
  },
  {
   "cell_type": "markdown",
   "id": "8654dccb",
   "metadata": {},
   "source": [
    "The **if** operator is a conditional operator. If the conditional statement directly proceeding the **if** is **True**, the indented lines of code underneath the operator will be executed. Otherwise, it will move to the next non-indented line."
   ]
  },
  {
   "cell_type": "markdown",
   "id": "25db836a",
   "metadata": {},
   "source": [
    "#### \"elif\" Operator"
   ]
  },
  {
   "cell_type": "markdown",
   "id": "d3f9cc6f",
   "metadata": {},
   "source": [
    "The **elif** operator is a conditional operator. If the previous **if** or **elif** statements are **False**, the **elif** statement tells python to try the this conditional statement. Like the **if** operator, if the **elif** statement is **True**, the indented lines of code underneath are excuted. Otherwise if **False**, the next non-indented line of code is executed."
   ]
  },
  {
   "cell_type": "markdown",
   "id": "8de431a1",
   "metadata": {},
   "source": [
    "#### \"else\" Operator"
   ]
  },
  {
   "cell_type": "markdown",
   "id": "e059aee1",
   "metadata": {},
   "source": [
    "The **else** operator is the final conditional operator we will be going over. This operator will run if ALL other **if** and **elif** statements are **False**. The indented lines of code under the **else** operator will run otherwise the next non-indented line of code is run. "
   ]
  },
  {
   "cell_type": "markdown",
   "id": "6d5471c7",
   "metadata": {},
   "source": [
    "Syntax: <br>\n",
    "**if conditional statment:** <br>\n",
    "> commands <br>\n",
    "\n",
    "**elif conditional statement:** <br>\n",
    "> commands <br>\n",
    "\n",
    "**else conditionanl statement:** <br>\n",
    "> commands"
   ]
  },
  {
   "cell_type": "code",
   "execution_count": 61,
   "id": "7487f930",
   "metadata": {},
   "outputs": [
    {
     "name": "stdout",
     "output_type": "stream",
     "text": [
      "i is not an even number of a multiple of 3\n",
      "i is an even number\n",
      "i is a multiple of 3\n",
      "i is an even number\n",
      "i is a multiple of 3\n",
      "i is an even number\n",
      "i is not an even number of a multiple of 3\n",
      "i is an even number\n",
      "i is a multiple of 3\n",
      "i is an even number\n",
      "i is a multiple of 3\n",
      "i is an even number\n",
      "i is not an even number of a multiple of 3\n",
      "i is an even number\n",
      "i is a multiple of 3\n",
      "i is an even number\n",
      "i is a multiple of 3\n",
      "i is an even number\n",
      "i is not an even number of a multiple of 3\n",
      "i is an even number\n"
     ]
    }
   ],
   "source": [
    "#Example of Conditional Operators inside of a for loop:\n",
    "for i in range(20):\n",
    "    if i%2:\n",
    "        print(\"i is an even number\")\n",
    "    elif i%3:\n",
    "        print(\"i is a multiple of 3\")\n",
    "    else:\n",
    "        print(\"i is not an even number of a multiple of 3\")"
   ]
  },
  {
   "cell_type": "markdown",
   "id": "b52811aa",
   "metadata": {},
   "source": [
    "### Loop Operators"
   ]
  },
  {
   "cell_type": "markdown",
   "id": "56165545",
   "metadata": {},
   "source": [
    "There are two loop operators that alter the order of which indented lines of code are ran inside of loops. There operators are the **break** and **continue** functions."
   ]
  },
  {
   "cell_type": "markdown",
   "id": "52481374",
   "metadata": {},
   "source": [
    "### Break"
   ]
  },
  {
   "cell_type": "markdown",
   "id": "fc26afd9",
   "metadata": {},
   "source": [
    "The **break** operator will break the python out of a loop that it is running. This operator is very helpful for **while** loops and ensuring they don't go on forever."
   ]
  },
  {
   "cell_type": "markdown",
   "id": "6ca40525",
   "metadata": {},
   "source": [
    "### Continue"
   ]
  },
  {
   "cell_type": "markdown",
   "id": "024d4654",
   "metadata": {},
   "source": [
    "The **continue** operator will stop the current iteration of a loop and move to the next iteration. "
   ]
  },
  {
   "cell_type": "code",
   "execution_count": 62,
   "id": "84f52734",
   "metadata": {},
   "outputs": [
    {
     "name": "stdout",
     "output_type": "stream",
     "text": [
      "1\n",
      "2\n",
      "3\n",
      "4\n",
      "5\n",
      "6\n",
      "7\n",
      "8\n",
      "9\n",
      "10\n",
      "11\n",
      "12\n",
      "13\n",
      "14\n",
      "15\n",
      "16\n",
      "17\n",
      "18\n",
      "19\n"
     ]
    }
   ],
   "source": [
    "#Example of using break and continue \n",
    "i = 1\n",
    "while i > 0:\n",
    "    print(i)\n",
    "    i = i+1\n",
    "    if i ==20:\n",
    "        break\n",
    "    else:\n",
    "        continue"
   ]
  },
  {
   "cell_type": "markdown",
   "id": "1cad3c83",
   "metadata": {},
   "source": [
    "# Functions"
   ]
  },
  {
   "cell_type": "markdown",
   "id": "2a875200",
   "metadata": {},
   "source": [
    "You can create your own functions in Python using the **def** function. The **def** alerts python that you are declaring a function using the following syntax:<br>\n",
    "<br>\n",
    "**def function_name(input arguements):**\n",
    "> **script performing literally whatever you want it to do with desired outputs**<br>\n",
    "> **return(output arguements)**\n"
   ]
  },
  {
   "cell_type": "code",
   "execution_count": 65,
   "id": "f03a703d",
   "metadata": {},
   "outputs": [],
   "source": [
    "#Example Function \n",
    "#Developing a Function to Calculate the Distance between two (lat, lon) coordinates in degrees\n",
    "def coord_dist(lat1,lon1,lat2,lon2):\n",
    "    #Converting coords from degrees to radians \n",
    "    lat1 = np.deg2rad(lat1)\n",
    "    lon1 = np.deg2rad(lon1)\n",
    "    lat2 = np.deg2rad(lat2)\n",
    "    lon2 = np.deg2rad(lon2)\n",
    "    r_E = 6371*1000 #Earth's Radius in Meters\n",
    "    dlat = lat2 - lat1\n",
    "    dlon = lon2 - lon1\n",
    "    a = np.sin(dlat/2)**2 + np.cos(lat1)*np.cos(lat2)*np.sin(dlon/2)**2\n",
    "    c = 2*np.arcsin(np.sqrt(a))\n",
    "    dist = c*r_E\n",
    "    return (dist)"
   ]
  },
  {
   "cell_type": "code",
   "execution_count": 64,
   "id": "64afc8f9",
   "metadata": {},
   "outputs": [
    {
     "name": "stdout",
     "output_type": "stream",
     "text": [
      "437.48 km from Ross Ice Shelf to McMurco Station\n"
     ]
    }
   ],
   "source": [
    "#Testing our Function\n",
    "#Coordinates for Ross Ice Shelf (-81.5,-175)\n",
    "ross_lat, ross_lon = -81.5, -175.0\n",
    "mcmurdo_lat, mcmurdo_lon = -77.85,-166.67\n",
    "\n",
    "trav_dist = coord_dist(ross_lat,ross_lon,mcmurdo_lat,mcmurdo_lon)\n",
    "print(str(np.round(trav_dist/1000,2))+' km from Ross Ice Shelf to McMurco Station')"
   ]
  },
  {
   "cell_type": "markdown",
   "id": "ac9de95f",
   "metadata": {},
   "source": [
    "# Congrats You completed Week 2!"
   ]
  }
 ],
 "metadata": {
  "kernelspec": {
   "display_name": "Python 3 (ipykernel)",
   "language": "python",
   "name": "python3"
  },
  "language_info": {
   "codemirror_mode": {
    "name": "ipython",
    "version": 3
   },
   "file_extension": ".py",
   "mimetype": "text/x-python",
   "name": "python",
   "nbconvert_exporter": "python",
   "pygments_lexer": "ipython3",
   "version": "3.10.9"
  }
 },
 "nbformat": 4,
 "nbformat_minor": 5
}
